{
 "cells": [
  {
   "cell_type": "code",
   "execution_count": 5,
   "id": "cdbf2d52",
   "metadata": {},
   "outputs": [],
   "source": [
    "#COMENZAMOS IMPORTANDO LAS LIBRERIAS NECESARIAS PARA EL COMIENZO (LUEGO SE AGREGARAN OTRAS SEGUN SE NECESITE)\n",
    "import pandas as pd\n",
    "import numpy as np\n",
    "import matplotlib.pyplot as plt\n",
    "import seaborn as sns\n",
    "import sklearn"
   ]
  },
  {
   "cell_type": "code",
   "execution_count": 4,
   "id": "e5eb9de5",
   "metadata": {},
   "outputs": [
    {
     "data": {
      "text/html": [
       "<div>\n",
       "<style scoped>\n",
       "    .dataframe tbody tr th:only-of-type {\n",
       "        vertical-align: middle;\n",
       "    }\n",
       "\n",
       "    .dataframe tbody tr th {\n",
       "        vertical-align: top;\n",
       "    }\n",
       "\n",
       "    .dataframe thead th {\n",
       "        text-align: right;\n",
       "    }\n",
       "</style>\n",
       "<table border=\"1\" class=\"dataframe\">\n",
       "  <thead>\n",
       "    <tr style=\"text-align: right;\">\n",
       "      <th></th>\n",
       "      <th>Unnamed: 0</th>\n",
       "      <th>Cultivo</th>\n",
       "      <th>idDepartamento</th>\n",
       "      <th>Sup_Sembrada</th>\n",
       "      <th>Sup_Cosechada</th>\n",
       "      <th>Producción</th>\n",
       "      <th>Rendimiento</th>\n",
       "      <th>anio</th>\n",
       "      <th>Precipitacion</th>\n",
       "    </tr>\n",
       "  </thead>\n",
       "  <tbody>\n",
       "    <tr>\n",
       "      <th>0</th>\n",
       "      <td>0</td>\n",
       "      <td>101</td>\n",
       "      <td>210</td>\n",
       "      <td>35</td>\n",
       "      <td>35</td>\n",
       "      <td>56</td>\n",
       "      <td>1600</td>\n",
       "      <td>2021</td>\n",
       "      <td>257.7</td>\n",
       "    </tr>\n",
       "    <tr>\n",
       "      <th>1</th>\n",
       "      <td>1</td>\n",
       "      <td>101</td>\n",
       "      <td>462</td>\n",
       "      <td>50</td>\n",
       "      <td>50</td>\n",
       "      <td>70</td>\n",
       "      <td>1400</td>\n",
       "      <td>1988</td>\n",
       "      <td>199.6</td>\n",
       "    </tr>\n",
       "    <tr>\n",
       "      <th>2</th>\n",
       "      <td>2</td>\n",
       "      <td>101</td>\n",
       "      <td>462</td>\n",
       "      <td>50</td>\n",
       "      <td>50</td>\n",
       "      <td>40</td>\n",
       "      <td>800</td>\n",
       "      <td>1989</td>\n",
       "      <td>180.5</td>\n",
       "    </tr>\n",
       "    <tr>\n",
       "      <th>3</th>\n",
       "      <td>3</td>\n",
       "      <td>101</td>\n",
       "      <td>469</td>\n",
       "      <td>150</td>\n",
       "      <td>130</td>\n",
       "      <td>190</td>\n",
       "      <td>1462</td>\n",
       "      <td>1988</td>\n",
       "      <td>199.6</td>\n",
       "    </tr>\n",
       "    <tr>\n",
       "      <th>4</th>\n",
       "      <td>4</td>\n",
       "      <td>101</td>\n",
       "      <td>469</td>\n",
       "      <td>120</td>\n",
       "      <td>120</td>\n",
       "      <td>168</td>\n",
       "      <td>1400</td>\n",
       "      <td>1989</td>\n",
       "      <td>180.5</td>\n",
       "    </tr>\n",
       "    <tr>\n",
       "      <th>5</th>\n",
       "      <td>5</td>\n",
       "      <td>101</td>\n",
       "      <td>686</td>\n",
       "      <td>200</td>\n",
       "      <td>200</td>\n",
       "      <td>300</td>\n",
       "      <td>1500</td>\n",
       "      <td>1988</td>\n",
       "      <td>199.6</td>\n",
       "    </tr>\n",
       "    <tr>\n",
       "      <th>6</th>\n",
       "      <td>6</td>\n",
       "      <td>101</td>\n",
       "      <td>686</td>\n",
       "      <td>100</td>\n",
       "      <td>100</td>\n",
       "      <td>80</td>\n",
       "      <td>800</td>\n",
       "      <td>1989</td>\n",
       "      <td>180.5</td>\n",
       "    </tr>\n",
       "    <tr>\n",
       "      <th>7</th>\n",
       "      <td>7</td>\n",
       "      <td>101</td>\n",
       "      <td>686</td>\n",
       "      <td>300</td>\n",
       "      <td>300</td>\n",
       "      <td>480</td>\n",
       "      <td>1600</td>\n",
       "      <td>1995</td>\n",
       "      <td>197.1</td>\n",
       "    </tr>\n",
       "    <tr>\n",
       "      <th>8</th>\n",
       "      <td>8</td>\n",
       "      <td>101</td>\n",
       "      <td>686</td>\n",
       "      <td>200</td>\n",
       "      <td>200</td>\n",
       "      <td>360</td>\n",
       "      <td>1800</td>\n",
       "      <td>1996</td>\n",
       "      <td>393.5</td>\n",
       "    </tr>\n",
       "    <tr>\n",
       "      <th>9</th>\n",
       "      <td>9</td>\n",
       "      <td>101</td>\n",
       "      <td>686</td>\n",
       "      <td>200</td>\n",
       "      <td>200</td>\n",
       "      <td>400</td>\n",
       "      <td>2000</td>\n",
       "      <td>1997</td>\n",
       "      <td>283.5</td>\n",
       "    </tr>\n",
       "    <tr>\n",
       "      <th>10</th>\n",
       "      <td>10</td>\n",
       "      <td>101</td>\n",
       "      <td>686</td>\n",
       "      <td>200</td>\n",
       "      <td>200</td>\n",
       "      <td>400</td>\n",
       "      <td>2000</td>\n",
       "      <td>1998</td>\n",
       "      <td>251.7</td>\n",
       "    </tr>\n",
       "    <tr>\n",
       "      <th>11</th>\n",
       "      <td>11</td>\n",
       "      <td>101</td>\n",
       "      <td>686</td>\n",
       "      <td>200</td>\n",
       "      <td>200</td>\n",
       "      <td>360</td>\n",
       "      <td>1800</td>\n",
       "      <td>1999</td>\n",
       "      <td>227.5</td>\n",
       "    </tr>\n",
       "    <tr>\n",
       "      <th>12</th>\n",
       "      <td>12</td>\n",
       "      <td>101</td>\n",
       "      <td>714</td>\n",
       "      <td>15</td>\n",
       "      <td>15</td>\n",
       "      <td>22</td>\n",
       "      <td>1467</td>\n",
       "      <td>1994</td>\n",
       "      <td>272.2</td>\n",
       "    </tr>\n",
       "    <tr>\n",
       "      <th>13</th>\n",
       "      <td>13</td>\n",
       "      <td>101</td>\n",
       "      <td>714</td>\n",
       "      <td>32</td>\n",
       "      <td>32</td>\n",
       "      <td>38</td>\n",
       "      <td>1188</td>\n",
       "      <td>1995</td>\n",
       "      <td>197.1</td>\n",
       "    </tr>\n",
       "    <tr>\n",
       "      <th>14</th>\n",
       "      <td>14</td>\n",
       "      <td>101</td>\n",
       "      <td>714</td>\n",
       "      <td>25</td>\n",
       "      <td>25</td>\n",
       "      <td>48</td>\n",
       "      <td>1920</td>\n",
       "      <td>1996</td>\n",
       "      <td>393.5</td>\n",
       "    </tr>\n",
       "    <tr>\n",
       "      <th>15</th>\n",
       "      <td>15</td>\n",
       "      <td>101</td>\n",
       "      <td>714</td>\n",
       "      <td>40</td>\n",
       "      <td>40</td>\n",
       "      <td>64</td>\n",
       "      <td>1600</td>\n",
       "      <td>1997</td>\n",
       "      <td>283.5</td>\n",
       "    </tr>\n",
       "    <tr>\n",
       "      <th>16</th>\n",
       "      <td>16</td>\n",
       "      <td>101</td>\n",
       "      <td>714</td>\n",
       "      <td>15</td>\n",
       "      <td>15</td>\n",
       "      <td>15</td>\n",
       "      <td>1000</td>\n",
       "      <td>1998</td>\n",
       "      <td>251.7</td>\n",
       "    </tr>\n",
       "    <tr>\n",
       "      <th>17</th>\n",
       "      <td>17</td>\n",
       "      <td>102</td>\n",
       "      <td>210</td>\n",
       "      <td>800</td>\n",
       "      <td>800</td>\n",
       "      <td>2720</td>\n",
       "      <td>3400</td>\n",
       "      <td>2018</td>\n",
       "      <td>387.7</td>\n",
       "    </tr>\n",
       "    <tr>\n",
       "      <th>18</th>\n",
       "      <td>18</td>\n",
       "      <td>102</td>\n",
       "      <td>210</td>\n",
       "      <td>600</td>\n",
       "      <td>540</td>\n",
       "      <td>1674</td>\n",
       "      <td>3100</td>\n",
       "      <td>2019</td>\n",
       "      <td>420.0</td>\n",
       "    </tr>\n",
       "    <tr>\n",
       "      <th>19</th>\n",
       "      <td>19</td>\n",
       "      <td>102</td>\n",
       "      <td>210</td>\n",
       "      <td>1000</td>\n",
       "      <td>1000</td>\n",
       "      <td>3400</td>\n",
       "      <td>3400</td>\n",
       "      <td>2020</td>\n",
       "      <td>372.4</td>\n",
       "    </tr>\n",
       "  </tbody>\n",
       "</table>\n",
       "</div>"
      ],
      "text/plain": [
       "    Unnamed: 0  Cultivo  idDepartamento  Sup_Sembrada  Sup_Cosechada  \\\n",
       "0            0      101             210            35             35   \n",
       "1            1      101             462            50             50   \n",
       "2            2      101             462            50             50   \n",
       "3            3      101             469           150            130   \n",
       "4            4      101             469           120            120   \n",
       "5            5      101             686           200            200   \n",
       "6            6      101             686           100            100   \n",
       "7            7      101             686           300            300   \n",
       "8            8      101             686           200            200   \n",
       "9            9      101             686           200            200   \n",
       "10          10      101             686           200            200   \n",
       "11          11      101             686           200            200   \n",
       "12          12      101             714            15             15   \n",
       "13          13      101             714            32             32   \n",
       "14          14      101             714            25             25   \n",
       "15          15      101             714            40             40   \n",
       "16          16      101             714            15             15   \n",
       "17          17      102             210           800            800   \n",
       "18          18      102             210           600            540   \n",
       "19          19      102             210          1000           1000   \n",
       "\n",
       "    Producción  Rendimiento  anio  Precipitacion  \n",
       "0           56         1600  2021          257.7  \n",
       "1           70         1400  1988          199.6  \n",
       "2           40          800  1989          180.5  \n",
       "3          190         1462  1988          199.6  \n",
       "4          168         1400  1989          180.5  \n",
       "5          300         1500  1988          199.6  \n",
       "6           80          800  1989          180.5  \n",
       "7          480         1600  1995          197.1  \n",
       "8          360         1800  1996          393.5  \n",
       "9          400         2000  1997          283.5  \n",
       "10         400         2000  1998          251.7  \n",
       "11         360         1800  1999          227.5  \n",
       "12          22         1467  1994          272.2  \n",
       "13          38         1188  1995          197.1  \n",
       "14          48         1920  1996          393.5  \n",
       "15          64         1600  1997          283.5  \n",
       "16          15         1000  1998          251.7  \n",
       "17        2720         3400  2018          387.7  \n",
       "18        1674         3100  2019          420.0  \n",
       "19        3400         3400  2020          372.4  "
      ]
     },
     "execution_count": 4,
     "metadata": {},
     "output_type": "execute_result"
    }
   ],
   "source": [
    "#Cargamos el Dataset\n",
    "dfn=pd.read_excel(\"Datos_totales.xlsx\")\n",
    "dfn.head(20)"
   ]
  },
  {
   "cell_type": "code",
   "execution_count": 5,
   "id": "562f352f",
   "metadata": {},
   "outputs": [
    {
     "data": {
      "text/html": [
       "<div>\n",
       "<style scoped>\n",
       "    .dataframe tbody tr th:only-of-type {\n",
       "        vertical-align: middle;\n",
       "    }\n",
       "\n",
       "    .dataframe tbody tr th {\n",
       "        vertical-align: top;\n",
       "    }\n",
       "\n",
       "    .dataframe thead th {\n",
       "        text-align: right;\n",
       "    }\n",
       "</style>\n",
       "<table border=\"1\" class=\"dataframe\">\n",
       "  <thead>\n",
       "    <tr style=\"text-align: right;\">\n",
       "      <th></th>\n",
       "      <th>Cultivo</th>\n",
       "      <th>idDepartamento</th>\n",
       "      <th>Sup_Sembrada</th>\n",
       "      <th>Sup_Cosechada</th>\n",
       "      <th>Producción</th>\n",
       "      <th>Rendimiento</th>\n",
       "      <th>anio</th>\n",
       "      <th>Precipitacion</th>\n",
       "    </tr>\n",
       "  </thead>\n",
       "  <tbody>\n",
       "    <tr>\n",
       "      <th>0</th>\n",
       "      <td>101</td>\n",
       "      <td>210</td>\n",
       "      <td>35</td>\n",
       "      <td>35</td>\n",
       "      <td>56</td>\n",
       "      <td>1600</td>\n",
       "      <td>2021</td>\n",
       "      <td>257.7</td>\n",
       "    </tr>\n",
       "    <tr>\n",
       "      <th>1</th>\n",
       "      <td>101</td>\n",
       "      <td>462</td>\n",
       "      <td>50</td>\n",
       "      <td>50</td>\n",
       "      <td>70</td>\n",
       "      <td>1400</td>\n",
       "      <td>1988</td>\n",
       "      <td>199.6</td>\n",
       "    </tr>\n",
       "    <tr>\n",
       "      <th>2</th>\n",
       "      <td>101</td>\n",
       "      <td>462</td>\n",
       "      <td>50</td>\n",
       "      <td>50</td>\n",
       "      <td>40</td>\n",
       "      <td>800</td>\n",
       "      <td>1989</td>\n",
       "      <td>180.5</td>\n",
       "    </tr>\n",
       "    <tr>\n",
       "      <th>3</th>\n",
       "      <td>101</td>\n",
       "      <td>469</td>\n",
       "      <td>150</td>\n",
       "      <td>130</td>\n",
       "      <td>190</td>\n",
       "      <td>1462</td>\n",
       "      <td>1988</td>\n",
       "      <td>199.6</td>\n",
       "    </tr>\n",
       "    <tr>\n",
       "      <th>4</th>\n",
       "      <td>101</td>\n",
       "      <td>469</td>\n",
       "      <td>120</td>\n",
       "      <td>120</td>\n",
       "      <td>168</td>\n",
       "      <td>1400</td>\n",
       "      <td>1989</td>\n",
       "      <td>180.5</td>\n",
       "    </tr>\n",
       "    <tr>\n",
       "      <th>...</th>\n",
       "      <td>...</td>\n",
       "      <td>...</td>\n",
       "      <td>...</td>\n",
       "      <td>...</td>\n",
       "      <td>...</td>\n",
       "      <td>...</td>\n",
       "      <td>...</td>\n",
       "      <td>...</td>\n",
       "    </tr>\n",
       "    <tr>\n",
       "      <th>3379</th>\n",
       "      <td>129</td>\n",
       "      <td>833</td>\n",
       "      <td>105070</td>\n",
       "      <td>105070</td>\n",
       "      <td>514843</td>\n",
       "      <td>4900</td>\n",
       "      <td>2017</td>\n",
       "      <td>419.1</td>\n",
       "    </tr>\n",
       "    <tr>\n",
       "      <th>3380</th>\n",
       "      <td>129</td>\n",
       "      <td>833</td>\n",
       "      <td>89875</td>\n",
       "      <td>80875</td>\n",
       "      <td>339453</td>\n",
       "      <td>4197</td>\n",
       "      <td>2018</td>\n",
       "      <td>440.8</td>\n",
       "    </tr>\n",
       "    <tr>\n",
       "      <th>3381</th>\n",
       "      <td>129</td>\n",
       "      <td>833</td>\n",
       "      <td>119000</td>\n",
       "      <td>119000</td>\n",
       "      <td>393100</td>\n",
       "      <td>3303</td>\n",
       "      <td>2019</td>\n",
       "      <td>395.4</td>\n",
       "    </tr>\n",
       "    <tr>\n",
       "      <th>3382</th>\n",
       "      <td>129</td>\n",
       "      <td>833</td>\n",
       "      <td>131000</td>\n",
       "      <td>131000</td>\n",
       "      <td>570000</td>\n",
       "      <td>4351</td>\n",
       "      <td>2020</td>\n",
       "      <td>503.3</td>\n",
       "    </tr>\n",
       "    <tr>\n",
       "      <th>3383</th>\n",
       "      <td>129</td>\n",
       "      <td>833</td>\n",
       "      <td>117946</td>\n",
       "      <td>117946</td>\n",
       "      <td>484392</td>\n",
       "      <td>4107</td>\n",
       "      <td>2021</td>\n",
       "      <td>288.5</td>\n",
       "    </tr>\n",
       "  </tbody>\n",
       "</table>\n",
       "<p>3384 rows × 8 columns</p>\n",
       "</div>"
      ],
      "text/plain": [
       "      Cultivo  idDepartamento  Sup_Sembrada  Sup_Cosechada  Producción  \\\n",
       "0         101             210            35             35          56   \n",
       "1         101             462            50             50          70   \n",
       "2         101             462            50             50          40   \n",
       "3         101             469           150            130         190   \n",
       "4         101             469           120            120         168   \n",
       "...       ...             ...           ...            ...         ...   \n",
       "3379      129             833        105070         105070      514843   \n",
       "3380      129             833         89875          80875      339453   \n",
       "3381      129             833        119000         119000      393100   \n",
       "3382      129             833        131000         131000      570000   \n",
       "3383      129             833        117946         117946      484392   \n",
       "\n",
       "      Rendimiento  anio  Precipitacion  \n",
       "0            1600  2021          257.7  \n",
       "1            1400  1988          199.6  \n",
       "2             800  1989          180.5  \n",
       "3            1462  1988          199.6  \n",
       "4            1400  1989          180.5  \n",
       "...           ...   ...            ...  \n",
       "3379         4900  2017          419.1  \n",
       "3380         4197  2018          440.8  \n",
       "3381         3303  2019          395.4  \n",
       "3382         4351  2020          503.3  \n",
       "3383         4107  2021          288.5  \n",
       "\n",
       "[3384 rows x 8 columns]"
      ]
     },
     "execution_count": 5,
     "metadata": {},
     "output_type": "execute_result"
    }
   ],
   "source": [
    "#Borramos la columna \"Unnamed\"\n",
    "dfn = dfn.drop(\"Unnamed: 0\", axis=1)\n",
    "dfn"
   ]
  },
  {
   "cell_type": "code",
   "execution_count": 6,
   "id": "5d22e09f",
   "metadata": {},
   "outputs": [],
   "source": [
    "#Definimos nuestra variable objetivo y separamos el Dataset para el entrenamiento\n",
    "X = dfn.drop(\"Rendimiento\", axis=1)\n",
    "y=dfn.Rendimiento\n",
    "\n",
    "\n"
   ]
  },
  {
   "cell_type": "code",
   "execution_count": 7,
   "id": "b31f45f6",
   "metadata": {},
   "outputs": [],
   "source": [
    "#importamos el train test split y separamos el dataset para entrenamiento y testeo\n",
    "from sklearn.model_selection import train_test_split\n",
    "X_train, X_test, y_train, y_test = train_test_split(X, y, test_size=0.3, random_state=1)"
   ]
  },
  {
   "cell_type": "code",
   "execution_count": 8,
   "id": "1b188e06",
   "metadata": {},
   "outputs": [
    {
     "name": "stderr",
     "output_type": "stream",
     "text": [
      "C:\\Users\\Diego\\miniconda3\\envs\\Mientorno\\lib\\site-packages\\seaborn\\distributions.py:2619: FutureWarning: `distplot` is a deprecated function and will be removed in a future version. Please adapt your code to use either `displot` (a figure-level function with similar flexibility) or `kdeplot` (an axes-level function for kernel density plots).\n",
      "  warnings.warn(msg, FutureWarning)\n",
      "C:\\Users\\Diego\\miniconda3\\envs\\Mientorno\\lib\\site-packages\\seaborn\\distributions.py:2103: FutureWarning: The `axis` variable is no longer used and will be removed. Instead, assign variables directly to `x` or `y`.\n",
      "  warnings.warn(msg, FutureWarning)\n",
      "C:\\Users\\Diego\\miniconda3\\envs\\Mientorno\\lib\\site-packages\\seaborn\\distributions.py:2619: FutureWarning: `distplot` is a deprecated function and will be removed in a future version. Please adapt your code to use either `displot` (a figure-level function with similar flexibility) or `kdeplot` (an axes-level function for kernel density plots).\n",
      "  warnings.warn(msg, FutureWarning)\n",
      "C:\\Users\\Diego\\miniconda3\\envs\\Mientorno\\lib\\site-packages\\seaborn\\distributions.py:2103: FutureWarning: The `axis` variable is no longer used and will be removed. Instead, assign variables directly to `x` or `y`.\n",
      "  warnings.warn(msg, FutureWarning)\n",
      "C:\\Users\\Diego\\miniconda3\\envs\\Mientorno\\lib\\site-packages\\pandas\\core\\arraylike.py:364: RuntimeWarning: divide by zero encountered in log\n",
      "  result = getattr(ufunc, method)(*inputs, **kwargs)\n",
      "C:\\Users\\Diego\\miniconda3\\envs\\Mientorno\\lib\\site-packages\\seaborn\\distributions.py:2619: FutureWarning: `distplot` is a deprecated function and will be removed in a future version. Please adapt your code to use either `displot` (a figure-level function with similar flexibility) or `kdeplot` (an axes-level function for kernel density plots).\n",
      "  warnings.warn(msg, FutureWarning)\n",
      "C:\\Users\\Diego\\miniconda3\\envs\\Mientorno\\lib\\site-packages\\seaborn\\distributions.py:2103: FutureWarning: The `axis` variable is no longer used and will be removed. Instead, assign variables directly to `x` or `y`.\n",
      "  warnings.warn(msg, FutureWarning)\n"
     ]
    },
    {
     "data": {
      "image/png": "[encoded data removed]",
      "text/plain": [
       "<Figure size 432x432 with 3 Axes>"
      ]
     },
     "metadata": {
      "needs_background": "light"
     },
     "output_type": "display_data"
    }
   ],
   "source": [
    "#Vemos la distribucion de nuestra variable objetivo.\n",
    "fig, axes = plt.subplots(nrows=3, ncols=1, figsize=(6, 6))\n",
    "sns.distplot(\n",
    "    dfn.Rendimiento,\n",
    "    hist    = False,\n",
    "    rug     = True,\n",
    "    color   = \"blue\",\n",
    "    kde_kws = {'shade': True, 'linewidth': 1},\n",
    "    ax      = axes[0]\n",
    ")\n",
    "axes[0].set_title(\"Distribución original\", fontsize = 'medium')\n",
    "axes[0].set_xlabel('Rendimiento', fontsize='small') \n",
    "axes[0].tick_params(labelsize = 6)\n",
    "\n",
    "sns.distplot(\n",
    "    np.sqrt(dfn.Rendimiento),\n",
    "    hist    = False,\n",
    "    rug     = True,\n",
    "    color   = \"blue\",\n",
    "    kde_kws = {'shade': True, 'linewidth': 1},\n",
    "    ax      = axes[1]\n",
    ")\n",
    "axes[1].set_title(\"Transformación raíz cuadrada\", fontsize = 'medium')\n",
    "axes[1].set_xlabel('sqrt(Rendimiento)', fontsize='small') \n",
    "axes[1].tick_params(labelsize = 6)\n",
    "\n",
    "sns.distplot(\n",
    "    np.log(dfn.Rendimiento),\n",
    "    hist    = False,\n",
    "    rug     = True,\n",
    "    color   = \"blue\",\n",
    "    kde_kws = {'shade': True, 'linewidth': 1},\n",
    "    ax      = axes[2]\n",
    ")\n",
    "axes[2].set_title(\"Transformación logarítmica\", fontsize = 'medium')\n",
    "axes[2].set_xlabel('log(Rendimiento)', fontsize='small') \n",
    "axes[2].tick_params(labelsize = 6)\n",
    "\n",
    "fig.tight_layout()"
   ]
  },
  {
   "cell_type": "code",
   "execution_count": 9,
   "id": "dbb52042",
   "metadata": {},
   "outputs": [
    {
     "data": {
      "image/png": "[encoded data removed]",
      "text/plain": [
       "<Figure size 936x504 with 8 Axes>"
      ]
     },
     "metadata": {
      "needs_background": "light"
     },
     "output_type": "display_data"
    }
   ],
   "source": [
    "# Gráfico de distribución para cada variable numérica\n",
    "# ==============================================================================\n",
    "# Ajustar número de subplots en función del número de columnas\n",
    "fig, axes = plt.subplots(nrows=3, ncols=3, figsize=(13, 7))\n",
    "axes = axes.flat\n",
    "columnas_numeric = dfn.select_dtypes(include=['float64', 'int']).columns\n",
    "columnas_numeric = columnas_numeric.drop('Rendimiento')\n",
    "\n",
    "for i, colum in enumerate(columnas_numeric):\n",
    "    sns.regplot(\n",
    "        x           = dfn[colum],\n",
    "        y           = dfn['Rendimiento'],\n",
    "        color       = \"gray\",\n",
    "        marker      = '.',\n",
    "        scatter_kws = {\"alpha\":0.4},\n",
    "        line_kws    = {\"color\":\"r\",\"alpha\":0.7},\n",
    "        ax          = axes[i]\n",
    "    )\n",
    "    axes[i].set_title(f\"Rendimiento vs {colum}\", fontsize = 7, fontweight = \"bold\")\n",
    "    #axes[i].ticklabel_format(style='sci', scilimits=(-4,4), axis='both')\n",
    "    axes[i].yaxis.set_major_formatter\n",
    "    axes[i].xaxis.set_major_formatter\n",
    "    axes[i].tick_params(labelsize = 6)\n",
    "    axes[i].set_xlabel(\"\")\n",
    "    axes[i].set_ylabel(\"\")\n",
    "\n",
    "# Se eliminan los axes vacíos\n",
    "for i in [8]:\n",
    "    fig.delaxes(axes[i])\n",
    "    \n",
    "fig.tight_layout()\n",
    "plt.subplots_adjust(top=0.9)\n",
    "fig.suptitle('Correlación con Rendimiento', fontsize = 10, fontweight = \"bold\");"
   ]
  },
  {
   "cell_type": "markdown",
   "id": "4c3f0c03",
   "metadata": {},
   "source": []
  },
  {
   "cell_type": "code",
   "execution_count": null,
   "id": "cb08d0e1",
   "metadata": {},
   "outputs": [],
   "source": []
  },
  {
   "cell_type": "code",
   "execution_count": null,
   "id": "de2a7dcf",
   "metadata": {},
   "outputs": [],
   "source": []
  },
  {
   "cell_type": "code",
   "execution_count": null,
   "id": "acf50383",
   "metadata": {},
   "outputs": [],
   "source": []
  },
  {
   "cell_type": "code",
   "execution_count": 10,
   "id": "31346e2e",
   "metadata": {},
   "outputs": [
    {
     "name": "stdout",
     "output_type": "stream",
     "text": [
      "0.42491745948791504\n"
     ]
    }
   ],
   "source": [
    "#comenzamos utilizando un modelo de regresion lineal\n",
    "import time\n",
    "inicio = time.time()\n",
    "from sklearn.linear_model import LinearRegression\n",
    "regressor = LinearRegression()\n",
    "regressor.fit(X_train, y_train)\n",
    "fin = time.time()\n",
    "print(fin-inicio)"
   ]
  },
  {
   "cell_type": "code",
   "execution_count": 11,
   "id": "b9fc8b06",
   "metadata": {},
   "outputs": [
    {
     "data": {
      "text/plain": [
       "array([3983.02784215, 3761.61941507, 2514.49764019, ..., 4293.80630092,\n",
       "       2282.29657192, 2778.04498848])"
      ]
     },
     "execution_count": 11,
     "metadata": {},
     "output_type": "execute_result"
    }
   ],
   "source": [
    "#Hacemos nuestras predicciones\n",
    "y_pred = regressor.predict(X_test)\n",
    "y_pred"
   ]
  },
  {
   "cell_type": "code",
   "execution_count": 12,
   "id": "288049e0",
   "metadata": {},
   "outputs": [
    {
     "data": {
      "text/html": [
       "<div>\n",
       "<style scoped>\n",
       "    .dataframe tbody tr th:only-of-type {\n",
       "        vertical-align: middle;\n",
       "    }\n",
       "\n",
       "    .dataframe tbody tr th {\n",
       "        vertical-align: top;\n",
       "    }\n",
       "\n",
       "    .dataframe thead th {\n",
       "        text-align: right;\n",
       "    }\n",
       "</style>\n",
       "<table border=\"1\" class=\"dataframe\">\n",
       "  <thead>\n",
       "    <tr style=\"text-align: right;\">\n",
       "      <th></th>\n",
       "      <th>real</th>\n",
       "      <th>preds</th>\n",
       "    </tr>\n",
       "  </thead>\n",
       "  <tbody>\n",
       "    <tr>\n",
       "      <th>569</th>\n",
       "      <td>2800</td>\n",
       "      <td>3983.027842</td>\n",
       "    </tr>\n",
       "    <tr>\n",
       "      <th>3340</th>\n",
       "      <td>3584</td>\n",
       "      <td>3761.619415</td>\n",
       "    </tr>\n",
       "    <tr>\n",
       "      <th>1850</th>\n",
       "      <td>2100</td>\n",
       "      <td>2514.497640</td>\n",
       "    </tr>\n",
       "    <tr>\n",
       "      <th>1412</th>\n",
       "      <td>4200</td>\n",
       "      <td>4251.029516</td>\n",
       "    </tr>\n",
       "    <tr>\n",
       "      <th>2202</th>\n",
       "      <td>1851</td>\n",
       "      <td>1897.669536</td>\n",
       "    </tr>\n",
       "    <tr>\n",
       "      <th>...</th>\n",
       "      <td>...</td>\n",
       "      <td>...</td>\n",
       "    </tr>\n",
       "    <tr>\n",
       "      <th>2347</th>\n",
       "      <td>1200</td>\n",
       "      <td>-1073.251137</td>\n",
       "    </tr>\n",
       "    <tr>\n",
       "      <th>1588</th>\n",
       "      <td>1000</td>\n",
       "      <td>2342.336752</td>\n",
       "    </tr>\n",
       "    <tr>\n",
       "      <th>2521</th>\n",
       "      <td>4500</td>\n",
       "      <td>4293.806301</td>\n",
       "    </tr>\n",
       "    <tr>\n",
       "      <th>154</th>\n",
       "      <td>3100</td>\n",
       "      <td>2282.296572</td>\n",
       "    </tr>\n",
       "    <tr>\n",
       "      <th>480</th>\n",
       "      <td>1802</td>\n",
       "      <td>2778.044988</td>\n",
       "    </tr>\n",
       "  </tbody>\n",
       "</table>\n",
       "<p>1016 rows × 2 columns</p>\n",
       "</div>"
      ],
      "text/plain": [
       "      real        preds\n",
       "569   2800  3983.027842\n",
       "3340  3584  3761.619415\n",
       "1850  2100  2514.497640\n",
       "1412  4200  4251.029516\n",
       "2202  1851  1897.669536\n",
       "...    ...          ...\n",
       "2347  1200 -1073.251137\n",
       "1588  1000  2342.336752\n",
       "2521  4500  4293.806301\n",
       "154   3100  2282.296572\n",
       "480   1802  2778.044988\n",
       "\n",
       "[1016 rows x 2 columns]"
      ]
     },
     "execution_count": 12,
     "metadata": {},
     "output_type": "execute_result"
    }
   ],
   "source": [
    "#Armamos un Df comparativo\n",
    "comp=pd.DataFrame({\"real\": y_test, \"preds\":y_pred})\n",
    "comp"
   ]
  },
  {
   "cell_type": "markdown",
   "id": "fc6f6202",
   "metadata": {},
   "source": [
    "Calculamos el R2 (utilizaremos esta medida para ver el grado de error)\n",
    "El coeficiente de determinación, o R² está estrechamente relacionada con la MSE,tiene la ventaja de estar libre de escala\n",
    "R2=1-(MSE(modelo)/MSE(baseline))"
   ]
  },
  {
   "cell_type": "markdown",
   "id": "a7766396",
   "metadata": {},
   "source": [
    "Tambien calcularemos el MAE, Esta métrica de regresión es el valor medio de la diferencia absoluta entre el valor real y el valor predicho.\n"
   ]
  },
  {
   "cell_type": "code",
   "execution_count": 14,
   "id": "1e1d352e",
   "metadata": {},
   "outputs": [
    {
     "data": {
      "text/plain": [
       "0.5692360295452686"
      ]
     },
     "execution_count": 14,
     "metadata": {},
     "output_type": "execute_result"
    }
   ],
   "source": [
    "from sklearn.metrics import r2_score\n",
    "from sklearn.metrics import mean_absolute_error\n",
    "r2= r2_score(y_test,y_pred)\n",
    "r2\n",
    "\n"
   ]
  },
  {
   "cell_type": "code",
   "execution_count": 15,
   "id": "66d5bd8e",
   "metadata": {},
   "outputs": [
    {
     "data": {
      "text/plain": [
       "956.6075301946563"
      ]
     },
     "execution_count": 15,
     "metadata": {},
     "output_type": "execute_result"
    }
   ],
   "source": [
    "MAE= mean_absolute_error(y_test,y_pred)\n",
    "MAE"
   ]
  },
  {
   "cell_type": "markdown",
   "id": "31086a9a",
   "metadata": {},
   "source": [
    "Ahora probaremos otros modelos y compararemos"
   ]
  },
  {
   "cell_type": "code",
   "execution_count": 16,
   "id": "b77d8d78",
   "metadata": {},
   "outputs": [
    {
     "name": "stdout",
     "output_type": "stream",
     "text": [
      "0.7362194061279297\n"
     ]
    }
   ],
   "source": [
    "#Probamos el Decision tree Regressor\n",
    "\n",
    "inicio = time.time()\n",
    "from sklearn.tree import DecisionTreeRegressor\n",
    "model2=DecisionTreeRegressor(random_state=1)\n",
    "model2.fit(X_train, y_train)\n",
    "fin = time.time()\n",
    "print(fin-inicio)"
   ]
  },
  {
   "cell_type": "code",
   "execution_count": 17,
   "id": "4fffb2cf",
   "metadata": {},
   "outputs": [
    {
     "data": {
      "text/html": [
       "<div>\n",
       "<style scoped>\n",
       "    .dataframe tbody tr th:only-of-type {\n",
       "        vertical-align: middle;\n",
       "    }\n",
       "\n",
       "    .dataframe tbody tr th {\n",
       "        vertical-align: top;\n",
       "    }\n",
       "\n",
       "    .dataframe thead th {\n",
       "        text-align: right;\n",
       "    }\n",
       "</style>\n",
       "<table border=\"1\" class=\"dataframe\">\n",
       "  <thead>\n",
       "    <tr style=\"text-align: right;\">\n",
       "      <th></th>\n",
       "      <th>real</th>\n",
       "      <th>pred</th>\n",
       "    </tr>\n",
       "  </thead>\n",
       "  <tbody>\n",
       "    <tr>\n",
       "      <th>569</th>\n",
       "      <td>2800</td>\n",
       "      <td>2300.0</td>\n",
       "    </tr>\n",
       "    <tr>\n",
       "      <th>3340</th>\n",
       "      <td>3584</td>\n",
       "      <td>4300.0</td>\n",
       "    </tr>\n",
       "    <tr>\n",
       "      <th>1850</th>\n",
       "      <td>2100</td>\n",
       "      <td>2500.0</td>\n",
       "    </tr>\n",
       "    <tr>\n",
       "      <th>1412</th>\n",
       "      <td>4200</td>\n",
       "      <td>3800.0</td>\n",
       "    </tr>\n",
       "    <tr>\n",
       "      <th>2202</th>\n",
       "      <td>1851</td>\n",
       "      <td>1901.0</td>\n",
       "    </tr>\n",
       "    <tr>\n",
       "      <th>...</th>\n",
       "      <td>...</td>\n",
       "      <td>...</td>\n",
       "    </tr>\n",
       "    <tr>\n",
       "      <th>2347</th>\n",
       "      <td>1200</td>\n",
       "      <td>1767.0</td>\n",
       "    </tr>\n",
       "    <tr>\n",
       "      <th>1588</th>\n",
       "      <td>1000</td>\n",
       "      <td>1000.0</td>\n",
       "    </tr>\n",
       "    <tr>\n",
       "      <th>2521</th>\n",
       "      <td>4500</td>\n",
       "      <td>5000.0</td>\n",
       "    </tr>\n",
       "    <tr>\n",
       "      <th>154</th>\n",
       "      <td>3100</td>\n",
       "      <td>2500.0</td>\n",
       "    </tr>\n",
       "    <tr>\n",
       "      <th>480</th>\n",
       "      <td>1802</td>\n",
       "      <td>1600.0</td>\n",
       "    </tr>\n",
       "  </tbody>\n",
       "</table>\n",
       "<p>1016 rows × 2 columns</p>\n",
       "</div>"
      ],
      "text/plain": [
       "      real    pred\n",
       "569   2800  2300.0\n",
       "3340  3584  4300.0\n",
       "1850  2100  2500.0\n",
       "1412  4200  3800.0\n",
       "2202  1851  1901.0\n",
       "...    ...     ...\n",
       "2347  1200  1767.0\n",
       "1588  1000  1000.0\n",
       "2521  4500  5000.0\n",
       "154   3100  2500.0\n",
       "480   1802  1600.0\n",
       "\n",
       "[1016 rows x 2 columns]"
      ]
     },
     "execution_count": 17,
     "metadata": {},
     "output_type": "execute_result"
    }
   ],
   "source": [
    "y_pred2=model2.predict(X_test)\n",
    "comp2=pd.DataFrame({\"real\": y_test, \"pred\":y_pred2})\n",
    "comp2"
   ]
  },
  {
   "cell_type": "code",
   "execution_count": 18,
   "id": "81ccd350",
   "metadata": {},
   "outputs": [
    {
     "data": {
      "text/plain": [
       "0.8760844227425268"
      ]
     },
     "execution_count": 18,
     "metadata": {},
     "output_type": "execute_result"
    }
   ],
   "source": [
    "r2= r2_score(y_test,y_pred2)\n",
    "r2"
   ]
  },
  {
   "cell_type": "code",
   "execution_count": 19,
   "id": "90ad093d",
   "metadata": {},
   "outputs": [
    {
     "data": {
      "text/plain": [
       "413.81003937007875"
      ]
     },
     "execution_count": 19,
     "metadata": {},
     "output_type": "execute_result"
    }
   ],
   "source": [
    "MAE= mean_absolute_error(y_test,y_pred2)\n",
    "MAE"
   ]
  },
  {
   "cell_type": "code",
   "execution_count": 20,
   "id": "22c9dcb1",
   "metadata": {},
   "outputs": [
    {
     "name": "stdout",
     "output_type": "stream",
     "text": [
      "1.1751008033752441\n"
     ]
    }
   ],
   "source": [
    "#Probaremos el Random Forest Regressor\n",
    "\n",
    "inicio = time.time()\n",
    "from sklearn.ensemble import RandomForestRegressor\n",
    "model3=RandomForestRegressor(random_state=1)\n",
    "model3.fit(X_train, y_train)\n",
    "fin = time.time()\n",
    "print(fin-inicio)"
   ]
  },
  {
   "cell_type": "code",
   "execution_count": 21,
   "id": "697c6383",
   "metadata": {},
   "outputs": [
    {
     "data": {
      "text/html": [
       "<div>\n",
       "<style scoped>\n",
       "    .dataframe tbody tr th:only-of-type {\n",
       "        vertical-align: middle;\n",
       "    }\n",
       "\n",
       "    .dataframe tbody tr th {\n",
       "        vertical-align: top;\n",
       "    }\n",
       "\n",
       "    .dataframe thead th {\n",
       "        text-align: right;\n",
       "    }\n",
       "</style>\n",
       "<table border=\"1\" class=\"dataframe\">\n",
       "  <thead>\n",
       "    <tr style=\"text-align: right;\">\n",
       "      <th></th>\n",
       "      <th>real</th>\n",
       "      <th>pred</th>\n",
       "    </tr>\n",
       "  </thead>\n",
       "  <tbody>\n",
       "    <tr>\n",
       "      <th>569</th>\n",
       "      <td>2800</td>\n",
       "      <td>2639.30</td>\n",
       "    </tr>\n",
       "    <tr>\n",
       "      <th>3340</th>\n",
       "      <td>3584</td>\n",
       "      <td>3879.00</td>\n",
       "    </tr>\n",
       "    <tr>\n",
       "      <th>1850</th>\n",
       "      <td>2100</td>\n",
       "      <td>2324.65</td>\n",
       "    </tr>\n",
       "    <tr>\n",
       "      <th>1412</th>\n",
       "      <td>4200</td>\n",
       "      <td>3994.67</td>\n",
       "    </tr>\n",
       "    <tr>\n",
       "      <th>2202</th>\n",
       "      <td>1851</td>\n",
       "      <td>1860.05</td>\n",
       "    </tr>\n",
       "    <tr>\n",
       "      <th>...</th>\n",
       "      <td>...</td>\n",
       "      <td>...</td>\n",
       "    </tr>\n",
       "    <tr>\n",
       "      <th>2347</th>\n",
       "      <td>1200</td>\n",
       "      <td>1688.60</td>\n",
       "    </tr>\n",
       "    <tr>\n",
       "      <th>1588</th>\n",
       "      <td>1000</td>\n",
       "      <td>991.06</td>\n",
       "    </tr>\n",
       "    <tr>\n",
       "      <th>2521</th>\n",
       "      <td>4500</td>\n",
       "      <td>5062.09</td>\n",
       "    </tr>\n",
       "    <tr>\n",
       "      <th>154</th>\n",
       "      <td>3100</td>\n",
       "      <td>2634.00</td>\n",
       "    </tr>\n",
       "    <tr>\n",
       "      <th>480</th>\n",
       "      <td>1802</td>\n",
       "      <td>1897.84</td>\n",
       "    </tr>\n",
       "  </tbody>\n",
       "</table>\n",
       "<p>1016 rows × 2 columns</p>\n",
       "</div>"
      ],
      "text/plain": [
       "      real     pred\n",
       "569   2800  2639.30\n",
       "3340  3584  3879.00\n",
       "1850  2100  2324.65\n",
       "1412  4200  3994.67\n",
       "2202  1851  1860.05\n",
       "...    ...      ...\n",
       "2347  1200  1688.60\n",
       "1588  1000   991.06\n",
       "2521  4500  5062.09\n",
       "154   3100  2634.00\n",
       "480   1802  1897.84\n",
       "\n",
       "[1016 rows x 2 columns]"
      ]
     },
     "execution_count": 21,
     "metadata": {},
     "output_type": "execute_result"
    }
   ],
   "source": [
    "y_pred3=model3.predict(X_test)\n",
    "comp3=pd.DataFrame({\"real\": y_test, \"pred\":y_pred3})\n",
    "comp3"
   ]
  },
  {
   "cell_type": "code",
   "execution_count": null,
   "id": "6b7cc1a1",
   "metadata": {},
   "outputs": [],
   "source": []
  },
  {
   "cell_type": "code",
   "execution_count": 22,
   "id": "9978f7dd",
   "metadata": {},
   "outputs": [
    {
     "data": {
      "text/plain": [
       "0.9385249085840909"
      ]
     },
     "execution_count": 22,
     "metadata": {},
     "output_type": "execute_result"
    }
   ],
   "source": [
    "r2= r2_score(y_test,y_pred3)\n",
    "r2"
   ]
  },
  {
   "cell_type": "code",
   "execution_count": 23,
   "id": "92ceed8e",
   "metadata": {},
   "outputs": [
    {
     "data": {
      "text/plain": [
       "287.58753937007873"
      ]
     },
     "execution_count": 23,
     "metadata": {},
     "output_type": "execute_result"
    }
   ],
   "source": [
    "MAE= mean_absolute_error(y_test,y_pred3)\n",
    "MAE"
   ]
  },
  {
   "cell_type": "code",
   "execution_count": 24,
   "id": "48944df5",
   "metadata": {},
   "outputs": [
    {
     "name": "stdout",
     "output_type": "stream",
     "text": [
      "0.5402779579162598\n"
     ]
    }
   ],
   "source": [
    "\n",
    "inicio = time.time()\n",
    "from sklearn import svm\n",
    "svm_reg= svm.SVR()\n",
    "regressor=svm_reg.fit(X_train, y_train)\n",
    "y_pred4=regressor.predict(X_test)\n",
    "fin = time.time()\n",
    "print(fin-inicio)"
   ]
  },
  {
   "cell_type": "code",
   "execution_count": 25,
   "id": "6727c9da",
   "metadata": {},
   "outputs": [
    {
     "data": {
      "text/html": [
       "<div>\n",
       "<style scoped>\n",
       "    .dataframe tbody tr th:only-of-type {\n",
       "        vertical-align: middle;\n",
       "    }\n",
       "\n",
       "    .dataframe tbody tr th {\n",
       "        vertical-align: top;\n",
       "    }\n",
       "\n",
       "    .dataframe thead th {\n",
       "        text-align: right;\n",
       "    }\n",
       "</style>\n",
       "<table border=\"1\" class=\"dataframe\">\n",
       "  <thead>\n",
       "    <tr style=\"text-align: right;\">\n",
       "      <th></th>\n",
       "      <th>real</th>\n",
       "      <th>pred</th>\n",
       "    </tr>\n",
       "  </thead>\n",
       "  <tbody>\n",
       "    <tr>\n",
       "      <th>1238</th>\n",
       "      <td>6000</td>\n",
       "      <td>2495.390902</td>\n",
       "    </tr>\n",
       "    <tr>\n",
       "      <th>1255</th>\n",
       "      <td>1799</td>\n",
       "      <td>2554.509855</td>\n",
       "    </tr>\n",
       "    <tr>\n",
       "      <th>3237</th>\n",
       "      <td>3235</td>\n",
       "      <td>2796.453051</td>\n",
       "    </tr>\n",
       "    <tr>\n",
       "      <th>1120</th>\n",
       "      <td>5200</td>\n",
       "      <td>2492.888260</td>\n",
       "    </tr>\n",
       "    <tr>\n",
       "      <th>965</th>\n",
       "      <td>4450</td>\n",
       "      <td>2822.402981</td>\n",
       "    </tr>\n",
       "    <tr>\n",
       "      <th>181</th>\n",
       "      <td>2400</td>\n",
       "      <td>2492.304176</td>\n",
       "    </tr>\n",
       "    <tr>\n",
       "      <th>1787</th>\n",
       "      <td>2000</td>\n",
       "      <td>2512.268630</td>\n",
       "    </tr>\n",
       "    <tr>\n",
       "      <th>231</th>\n",
       "      <td>2000</td>\n",
       "      <td>2495.274152</td>\n",
       "    </tr>\n",
       "    <tr>\n",
       "      <th>230</th>\n",
       "      <td>1400</td>\n",
       "      <td>2492.935710</td>\n",
       "    </tr>\n",
       "    <tr>\n",
       "      <th>2454</th>\n",
       "      <td>5500</td>\n",
       "      <td>2608.536993</td>\n",
       "    </tr>\n",
       "  </tbody>\n",
       "</table>\n",
       "</div>"
      ],
      "text/plain": [
       "      real         pred\n",
       "1238  6000  2495.390902\n",
       "1255  1799  2554.509855\n",
       "3237  3235  2796.453051\n",
       "1120  5200  2492.888260\n",
       "965   4450  2822.402981\n",
       "181   2400  2492.304176\n",
       "1787  2000  2512.268630\n",
       "231   2000  2495.274152\n",
       "230   1400  2492.935710\n",
       "2454  5500  2608.536993"
      ]
     },
     "execution_count": 25,
     "metadata": {},
     "output_type": "execute_result"
    }
   ],
   "source": [
    "comp4=pd.DataFrame({\"real\": y_test, \"pred\":y_pred4})\n",
    "comp4.sample(10)"
   ]
  },
  {
   "cell_type": "code",
   "execution_count": 26,
   "id": "a513629b",
   "metadata": {},
   "outputs": [
    {
     "data": {
      "text/plain": [
       "0.00829438521136816"
      ]
     },
     "execution_count": 26,
     "metadata": {},
     "output_type": "execute_result"
    }
   ],
   "source": [
    "r2= r2_score(y_test,y_pred4)\n",
    "r2"
   ]
  },
  {
   "cell_type": "code",
   "execution_count": 27,
   "id": "5f03ec00",
   "metadata": {},
   "outputs": [
    {
     "data": {
      "text/plain": [
       "1278.7359151975875"
      ]
     },
     "execution_count": 27,
     "metadata": {},
     "output_type": "execute_result"
    }
   ],
   "source": [
    "MAE= mean_absolute_error(y_test,y_pred4)\n",
    "MAE"
   ]
  },
  {
   "cell_type": "code",
   "execution_count": 28,
   "id": "0763fc71",
   "metadata": {},
   "outputs": [
    {
     "name": "stdout",
     "output_type": "stream",
     "text": [
      "0.0722360610961914\n"
     ]
    }
   ],
   "source": [
    "inicio = time.time()\n",
    "from sklearn.neighbors import KNeighborsRegressor\n",
    "KNN_reg=KNeighborsRegressor(n_neighbors=5)\n",
    "regressor=KNN_reg.fit(X_train, y_train)\n",
    "y_pred5=regressor.predict(X_test)\n",
    "fin = time.time()\n",
    "print(fin-inicio)"
   ]
  },
  {
   "cell_type": "code",
   "execution_count": 29,
   "id": "b34d0785",
   "metadata": {},
   "outputs": [
    {
     "data": {
      "text/html": [
       "<div>\n",
       "<style scoped>\n",
       "    .dataframe tbody tr th:only-of-type {\n",
       "        vertical-align: middle;\n",
       "    }\n",
       "\n",
       "    .dataframe tbody tr th {\n",
       "        vertical-align: top;\n",
       "    }\n",
       "\n",
       "    .dataframe thead th {\n",
       "        text-align: right;\n",
       "    }\n",
       "</style>\n",
       "<table border=\"1\" class=\"dataframe\">\n",
       "  <thead>\n",
       "    <tr style=\"text-align: right;\">\n",
       "      <th></th>\n",
       "      <th>real</th>\n",
       "      <th>pred</th>\n",
       "    </tr>\n",
       "  </thead>\n",
       "  <tbody>\n",
       "    <tr>\n",
       "      <th>630</th>\n",
       "      <td>2908</td>\n",
       "      <td>2674.4</td>\n",
       "    </tr>\n",
       "    <tr>\n",
       "      <th>154</th>\n",
       "      <td>3100</td>\n",
       "      <td>3255.6</td>\n",
       "    </tr>\n",
       "    <tr>\n",
       "      <th>3140</th>\n",
       "      <td>2600</td>\n",
       "      <td>2420.0</td>\n",
       "    </tr>\n",
       "    <tr>\n",
       "      <th>2285</th>\n",
       "      <td>1600</td>\n",
       "      <td>1604.2</td>\n",
       "    </tr>\n",
       "    <tr>\n",
       "      <th>2037</th>\n",
       "      <td>3600</td>\n",
       "      <td>3641.8</td>\n",
       "    </tr>\n",
       "    <tr>\n",
       "      <th>1074</th>\n",
       "      <td>2870</td>\n",
       "      <td>2856.6</td>\n",
       "    </tr>\n",
       "    <tr>\n",
       "      <th>3203</th>\n",
       "      <td>5300</td>\n",
       "      <td>5060.2</td>\n",
       "    </tr>\n",
       "    <tr>\n",
       "      <th>573</th>\n",
       "      <td>2200</td>\n",
       "      <td>2294.0</td>\n",
       "    </tr>\n",
       "    <tr>\n",
       "      <th>3</th>\n",
       "      <td>1462</td>\n",
       "      <td>1340.0</td>\n",
       "    </tr>\n",
       "    <tr>\n",
       "      <th>1178</th>\n",
       "      <td>6000</td>\n",
       "      <td>4800.0</td>\n",
       "    </tr>\n",
       "  </tbody>\n",
       "</table>\n",
       "</div>"
      ],
      "text/plain": [
       "      real    pred\n",
       "630   2908  2674.4\n",
       "154   3100  3255.6\n",
       "3140  2600  2420.0\n",
       "2285  1600  1604.2\n",
       "2037  3600  3641.8\n",
       "1074  2870  2856.6\n",
       "3203  5300  5060.2\n",
       "573   2200  2294.0\n",
       "3     1462  1340.0\n",
       "1178  6000  4800.0"
      ]
     },
     "execution_count": 29,
     "metadata": {},
     "output_type": "execute_result"
    }
   ],
   "source": [
    "comp5=pd.DataFrame({\"real\": y_test, \"pred\":y_pred5})\n",
    "comp5.sample(10)"
   ]
  },
  {
   "cell_type": "code",
   "execution_count": 30,
   "id": "18d22a67",
   "metadata": {},
   "outputs": [
    {
     "data": {
      "text/plain": [
       "0.9429521773711178"
      ]
     },
     "execution_count": 30,
     "metadata": {},
     "output_type": "execute_result"
    }
   ],
   "source": [
    "r2= r2_score(y_test,y_pred5)\n",
    "r2"
   ]
  },
  {
   "cell_type": "code",
   "execution_count": 31,
   "id": "3877cc2a",
   "metadata": {},
   "outputs": [
    {
     "data": {
      "text/plain": [
       "254.28405511811022"
      ]
     },
     "execution_count": 31,
     "metadata": {},
     "output_type": "execute_result"
    }
   ],
   "source": [
    "MAE= mean_absolute_error(y_test,y_pred5)\n",
    "MAE"
   ]
  },
  {
   "cell_type": "code",
   "execution_count": 32,
   "id": "c2dbb28d",
   "metadata": {},
   "outputs": [],
   "source": [
    "#Probamos algunas tecnicas de Stacking (Ensamblar mas de 1 modelo para mejorar un resultado)\n",
    "#Definimos que modelos vamos a combinar\n",
    "lr = LinearRegression()\n",
    "knn = KNeighborsRegressor(n_neighbors=5)\n",
    "rf = RandomForestRegressor(random_state=1)"
   ]
  },
  {
   "cell_type": "code",
   "execution_count": 33,
   "id": "dc985388",
   "metadata": {},
   "outputs": [],
   "source": [
    "# Store the models to combine (esto lo pongo porque lo vi en la notebook de Miguel)\n",
    "estimators = [(\"Linear Regression\", lr), (\"KNN\", knn), (\"Random Forest\", rf)]"
   ]
  },
  {
   "cell_type": "code",
   "execution_count": 34,
   "id": "893c0b9d",
   "metadata": {},
   "outputs": [],
   "source": [
    "#importamos la tecnica de ensamble\n",
    "from sklearn.ensemble import StackingRegressor"
   ]
  },
  {
   "cell_type": "code",
   "execution_count": 37,
   "id": "1bbfa1a9",
   "metadata": {},
   "outputs": [
    {
     "name": "stdout",
     "output_type": "stream",
     "text": [
      "3.7816903591156006\n"
     ]
    }
   ],
   "source": [
    "#Define the super model whit a meta-stimator which is just another linear regression\n",
    "inicio = time.time()\n",
    "ensemble= StackingRegressor(estimators=estimators, final_estimator=lr)\n",
    "#entrenamos el super-modelo\n",
    "ensemble.fit(X_train, y_train)\n",
    "fin = time.time()\n",
    "print(fin-inicio)"
   ]
  },
  {
   "cell_type": "code",
   "execution_count": 38,
   "id": "17c7c830",
   "metadata": {},
   "outputs": [
    {
     "data": {
      "text/html": [
       "<style>#sk-container-id-1 {color: black;background-color: white;}#sk-container-id-1 pre{padding: 0;}#sk-container-id-1 div.sk-toggleable {background-color: white;}#sk-container-id-1 label.sk-toggleable__label {cursor: pointer;display: block;width: 100%;margin-bottom: 0;padding: 0.3em;box-sizing: border-box;text-align: center;}#sk-container-id-1 label.sk-toggleable__label-arrow:before {content: \"▸\";float: left;margin-right: 0.25em;color: #696969;}#sk-container-id-1 label.sk-toggleable__label-arrow:hover:before {color: black;}#sk-container-id-1 div.sk-estimator:hover label.sk-toggleable__label-arrow:before {color: black;}#sk-container-id-1 div.sk-toggleable__content {max-height: 0;max-width: 0;overflow: hidden;text-align: left;background-color: #f0f8ff;}#sk-container-id-1 div.sk-toggleable__content pre {margin: 0.2em;color: black;border-radius: 0.25em;background-color: #f0f8ff;}#sk-container-id-1 input.sk-toggleable__control:checked~div.sk-toggleable__content {max-height: 200px;max-width: 100%;overflow: auto;}#sk-container-id-1 input.sk-toggleable__control:checked~label.sk-toggleable__label-arrow:before {content: \"▾\";}#sk-container-id-1 div.sk-estimator input.sk-toggleable__control:checked~label.sk-toggleable__label {background-color: #d4ebff;}#sk-container-id-1 div.sk-label input.sk-toggleable__control:checked~label.sk-toggleable__label {background-color: #d4ebff;}#sk-container-id-1 input.sk-hidden--visually {border: 0;clip: rect(1px 1px 1px 1px);clip: rect(1px, 1px, 1px, 1px);height: 1px;margin: -1px;overflow: hidden;padding: 0;position: absolute;width: 1px;}#sk-container-id-1 div.sk-estimator {font-family: monospace;background-color: #f0f8ff;border: 1px dotted black;border-radius: 0.25em;box-sizing: border-box;margin-bottom: 0.5em;}#sk-container-id-1 div.sk-estimator:hover {background-color: #d4ebff;}#sk-container-id-1 div.sk-parallel-item::after {content: \"\";width: 100%;border-bottom: 1px solid gray;flex-grow: 1;}#sk-container-id-1 div.sk-label:hover label.sk-toggleable__label {background-color: #d4ebff;}#sk-container-id-1 div.sk-serial::before {content: \"\";position: absolute;border-left: 1px solid gray;box-sizing: border-box;top: 0;bottom: 0;left: 50%;z-index: 0;}#sk-container-id-1 div.sk-serial {display: flex;flex-direction: column;align-items: center;background-color: white;padding-right: 0.2em;padding-left: 0.2em;position: relative;}#sk-container-id-1 div.sk-item {position: relative;z-index: 1;}#sk-container-id-1 div.sk-parallel {display: flex;align-items: stretch;justify-content: center;background-color: white;position: relative;}#sk-container-id-1 div.sk-item::before, #sk-container-id-1 div.sk-parallel-item::before {content: \"\";position: absolute;border-left: 1px solid gray;box-sizing: border-box;top: 0;bottom: 0;left: 50%;z-index: -1;}#sk-container-id-1 div.sk-parallel-item {display: flex;flex-direction: column;z-index: 1;position: relative;background-color: white;}#sk-container-id-1 div.sk-parallel-item:first-child::after {align-self: flex-end;width: 50%;}#sk-container-id-1 div.sk-parallel-item:last-child::after {align-self: flex-start;width: 50%;}#sk-container-id-1 div.sk-parallel-item:only-child::after {width: 0;}#sk-container-id-1 div.sk-dashed-wrapped {border: 1px dashed gray;margin: 0 0.4em 0.5em 0.4em;box-sizing: border-box;padding-bottom: 0.4em;background-color: white;}#sk-container-id-1 div.sk-label label {font-family: monospace;font-weight: bold;display: inline-block;line-height: 1.2em;}#sk-container-id-1 div.sk-label-container {text-align: center;}#sk-container-id-1 div.sk-container {/* jupyter's `normalize.less` sets `[hidden] { display: none; }` but bootstrap.min.css set `[hidden] { display: none !important; }` so we also need the `!important` here to be able to override the default hidden behavior on the sphinx rendered scikit-learn.org. See: https://github.com/scikit-learn/scikit-learn/issues/21755 */display: inline-block !important;position: relative;}#sk-container-id-1 div.sk-text-repr-fallback {display: none;}</style><div id=\"sk-container-id-1\" class=\"sk-top-container\"><div class=\"sk-text-repr-fallback\"><pre>StackingRegressor(estimators=[(&#x27;Linear Regression&#x27;, LinearRegression()),\n",
       "                              (&#x27;KNN&#x27;, KNeighborsRegressor()),\n",
       "                              (&#x27;Random Forest&#x27;,\n",
       "                               RandomForestRegressor(random_state=1))],\n",
       "                  final_estimator=LinearRegression())</pre><b>In a Jupyter environment, please rerun this cell to show the HTML representation or trust the notebook. <br />On GitHub, the HTML representation is unable to render, please try loading this page with nbviewer.org.</b></div><div class=\"sk-container\" hidden><div class=\"sk-item sk-dashed-wrapped\"><div class=\"sk-label-container\"><div class=\"sk-label sk-toggleable\"><input class=\"sk-toggleable__control sk-hidden--visually\" id=\"sk-estimator-id-1\" type=\"checkbox\" ><label for=\"sk-estimator-id-1\" class=\"sk-toggleable__label sk-toggleable__label-arrow\">StackingRegressor</label><div class=\"sk-toggleable__content\"><pre>StackingRegressor(estimators=[(&#x27;Linear Regression&#x27;, LinearRegression()),\n",
       "                              (&#x27;KNN&#x27;, KNeighborsRegressor()),\n",
       "                              (&#x27;Random Forest&#x27;,\n",
       "                               RandomForestRegressor(random_state=1))],\n",
       "                  final_estimator=LinearRegression())</pre></div></div></div><div class=\"sk-serial\"><div class=\"sk-item\"><div class=\"sk-parallel\"><div class=\"sk-parallel-item\"><div class=\"sk-item\"><div class=\"sk-label-container\"><div class=\"sk-label sk-toggleable\"><label>Linear Regression</label></div></div><div class=\"sk-serial\"><div class=\"sk-item\"><div class=\"sk-estimator sk-toggleable\"><input class=\"sk-toggleable__control sk-hidden--visually\" id=\"sk-estimator-id-2\" type=\"checkbox\" ><label for=\"sk-estimator-id-2\" class=\"sk-toggleable__label sk-toggleable__label-arrow\">LinearRegression</label><div class=\"sk-toggleable__content\"><pre>LinearRegression()</pre></div></div></div></div></div></div><div class=\"sk-parallel-item\"><div class=\"sk-item\"><div class=\"sk-label-container\"><div class=\"sk-label sk-toggleable\"><label>KNN</label></div></div><div class=\"sk-serial\"><div class=\"sk-item\"><div class=\"sk-estimator sk-toggleable\"><input class=\"sk-toggleable__control sk-hidden--visually\" id=\"sk-estimator-id-3\" type=\"checkbox\" ><label for=\"sk-estimator-id-3\" class=\"sk-toggleable__label sk-toggleable__label-arrow\">KNeighborsRegressor</label><div class=\"sk-toggleable__content\"><pre>KNeighborsRegressor()</pre></div></div></div></div></div></div><div class=\"sk-parallel-item\"><div class=\"sk-item\"><div class=\"sk-label-container\"><div class=\"sk-label sk-toggleable\"><label>Random Forest</label></div></div><div class=\"sk-serial\"><div class=\"sk-item\"><div class=\"sk-estimator sk-toggleable\"><input class=\"sk-toggleable__control sk-hidden--visually\" id=\"sk-estimator-id-4\" type=\"checkbox\" ><label for=\"sk-estimator-id-4\" class=\"sk-toggleable__label sk-toggleable__label-arrow\">RandomForestRegressor</label><div class=\"sk-toggleable__content\"><pre>RandomForestRegressor(random_state=1)</pre></div></div></div></div></div></div></div></div><div class=\"sk-item\"><div class=\"sk-parallel\"><div class=\"sk-parallel-item\"><div class=\"sk-item\"><div class=\"sk-label-container\"><div class=\"sk-label sk-toggleable\"><label>final_estimator</label></div></div><div class=\"sk-serial\"><div class=\"sk-item\"><div class=\"sk-estimator sk-toggleable\"><input class=\"sk-toggleable__control sk-hidden--visually\" id=\"sk-estimator-id-5\" type=\"checkbox\" ><label for=\"sk-estimator-id-5\" class=\"sk-toggleable__label sk-toggleable__label-arrow\">LinearRegression</label><div class=\"sk-toggleable__content\"><pre>LinearRegression()</pre></div></div></div></div></div></div></div></div></div></div></div></div>"
      ],
      "text/plain": [
       "StackingRegressor(estimators=[('Linear Regression', LinearRegression()),\n",
       "                              ('KNN', KNeighborsRegressor()),\n",
       "                              ('Random Forest',\n",
       "                               RandomForestRegressor(random_state=1))],\n",
       "                  final_estimator=LinearRegression())"
      ]
     },
     "execution_count": 38,
     "metadata": {},
     "output_type": "execute_result"
    }
   ],
   "source": [
    "#entrenamos el super-modelo\n",
    "ensemble.fit(X_train, y_train)\n"
   ]
  },
  {
   "cell_type": "code",
   "execution_count": 39,
   "id": "a21eda9d",
   "metadata": {},
   "outputs": [],
   "source": [
    "#evaluamos el super-modelo\n",
    "y_pred_ens=ensemble.predict(X_test)"
   ]
  },
  {
   "cell_type": "code",
   "execution_count": 40,
   "id": "7a4af97f",
   "metadata": {},
   "outputs": [
    {
     "data": {
      "text/html": [
       "<div>\n",
       "<style scoped>\n",
       "    .dataframe tbody tr th:only-of-type {\n",
       "        vertical-align: middle;\n",
       "    }\n",
       "\n",
       "    .dataframe tbody tr th {\n",
       "        vertical-align: top;\n",
       "    }\n",
       "\n",
       "    .dataframe thead th {\n",
       "        text-align: right;\n",
       "    }\n",
       "</style>\n",
       "<table border=\"1\" class=\"dataframe\">\n",
       "  <thead>\n",
       "    <tr style=\"text-align: right;\">\n",
       "      <th></th>\n",
       "      <th>real</th>\n",
       "      <th>pred</th>\n",
       "    </tr>\n",
       "  </thead>\n",
       "  <tbody>\n",
       "    <tr>\n",
       "      <th>1947</th>\n",
       "      <td>2500</td>\n",
       "      <td>2506.722863</td>\n",
       "    </tr>\n",
       "    <tr>\n",
       "      <th>2276</th>\n",
       "      <td>1500</td>\n",
       "      <td>1606.155773</td>\n",
       "    </tr>\n",
       "    <tr>\n",
       "      <th>1294</th>\n",
       "      <td>2956</td>\n",
       "      <td>3010.872832</td>\n",
       "    </tr>\n",
       "    <tr>\n",
       "      <th>1760</th>\n",
       "      <td>2500</td>\n",
       "      <td>2433.413909</td>\n",
       "    </tr>\n",
       "    <tr>\n",
       "      <th>136</th>\n",
       "      <td>1400</td>\n",
       "      <td>1142.013627</td>\n",
       "    </tr>\n",
       "    <tr>\n",
       "      <th>1818</th>\n",
       "      <td>1700</td>\n",
       "      <td>2017.594583</td>\n",
       "    </tr>\n",
       "    <tr>\n",
       "      <th>870</th>\n",
       "      <td>3800</td>\n",
       "      <td>4024.467178</td>\n",
       "    </tr>\n",
       "    <tr>\n",
       "      <th>7</th>\n",
       "      <td>1600</td>\n",
       "      <td>1525.937913</td>\n",
       "    </tr>\n",
       "    <tr>\n",
       "      <th>3101</th>\n",
       "      <td>3500</td>\n",
       "      <td>3670.271749</td>\n",
       "    </tr>\n",
       "    <tr>\n",
       "      <th>1611</th>\n",
       "      <td>1000</td>\n",
       "      <td>885.619452</td>\n",
       "    </tr>\n",
       "  </tbody>\n",
       "</table>\n",
       "</div>"
      ],
      "text/plain": [
       "      real         pred\n",
       "1947  2500  2506.722863\n",
       "2276  1500  1606.155773\n",
       "1294  2956  3010.872832\n",
       "1760  2500  2433.413909\n",
       "136   1400  1142.013627\n",
       "1818  1700  2017.594583\n",
       "870   3800  4024.467178\n",
       "7     1600  1525.937913\n",
       "3101  3500  3670.271749\n",
       "1611  1000   885.619452"
      ]
     },
     "execution_count": 40,
     "metadata": {},
     "output_type": "execute_result"
    }
   ],
   "source": [
    "#vemos algunos resultados\n",
    "comp_ens=pd.DataFrame({\"real\": y_test, \"pred\":y_pred_ens})\n",
    "comp_ens.sample(10)"
   ]
  },
  {
   "cell_type": "code",
   "execution_count": 41,
   "id": "8622a516",
   "metadata": {},
   "outputs": [
    {
     "data": {
      "text/plain": [
       "0.9617729521609623"
      ]
     },
     "execution_count": 41,
     "metadata": {},
     "output_type": "execute_result"
    }
   ],
   "source": [
    "#calculamos nuestro R2 del super-modelo\n",
    "r2= r2_score(y_test,y_pred_ens)\n",
    "r2"
   ]
  },
  {
   "cell_type": "code",
   "execution_count": 42,
   "id": "696c2abb",
   "metadata": {},
   "outputs": [
    {
     "data": {
      "text/plain": [
       "225.81021488624876"
      ]
     },
     "execution_count": 42,
     "metadata": {},
     "output_type": "execute_result"
    }
   ],
   "source": [
    "MAE= mean_absolute_error(y_test,y_pred_ens)\n",
    "MAE"
   ]
  },
  {
   "cell_type": "code",
   "execution_count": 38,
   "id": "6ab9a26e",
   "metadata": {},
   "outputs": [],
   "source": [
    "#Se logro una mejora importante\n"
   ]
  },
  {
   "cell_type": "code",
   "execution_count": 43,
   "id": "9e4d34a9",
   "metadata": {},
   "outputs": [],
   "source": [
    "from sklearn import model_selection\n",
    "from sklearn.metrics import r2_score"
   ]
  },
  {
   "cell_type": "code",
   "execution_count": 44,
   "id": "0e9e7071",
   "metadata": {},
   "outputs": [
    {
     "name": "stdout",
     "output_type": "stream",
     "text": [
      "[('lr', LinearRegression()), ('knn', KNeighborsRegressor()), ('rf', RandomForestRegressor(random_state=1)), ('ensemble', StackingRegressor(estimators=[('Linear Regression', LinearRegression()),\n",
      "                              ('KNN', KNeighborsRegressor()),\n",
      "                              ('Random Forest',\n",
      "                               RandomForestRegressor(random_state=1))],\n",
      "                  final_estimator=LinearRegression()))]\n"
     ]
    }
   ],
   "source": [
    "#ahora probamos un K-Cross validation para ver si el modelo responde de la misma manera siempre\n",
    "models = []\n",
    "models.append(('lr', LinearRegression()))\n",
    "models.append(('knn' , KNeighborsRegressor(n_neighbors=5)))\n",
    "models.append(('rf' , RandomForestRegressor(random_state=1)))\n",
    "models.append(('ensemble', StackingRegressor(estimators=estimators, final_estimator=lr)))\n",
    "print(models)"
   ]
  },
  {
   "cell_type": "code",
   "execution_count": 45,
   "id": "473b0bd5",
   "metadata": {},
   "outputs": [
    {
     "name": "stdout",
     "output_type": "stream",
     "text": [
      "lr: 0.602194 (0.033904)\n",
      "knn: 0.925834 (0.023977)\n",
      "rf: 0.928368 (0.021614)\n",
      "ensemble: 0.950300 (0.017024)\n"
     ]
    }
   ],
   "source": [
    "results = []\n",
    "names = []\n",
    "for name, model in models:\n",
    "    kfold = model_selection.KFold(n_splits=6, random_state=None)\n",
    "    cv_results = model_selection.cross_val_score(model, X_train, y_train, cv=kfold, scoring='r2')\n",
    "    results.append(cv_results)\n",
    "    names.append(name)\n",
    "    msg = \"%s: %f (%f)\" % (name, cv_results.mean(), cv_results.std())\n",
    "    print(msg)"
   ]
  },
  {
   "cell_type": "code",
   "execution_count": 46,
   "id": "2f0f6200",
   "metadata": {},
   "outputs": [
    {
     "name": "stdout",
     "output_type": "stream",
     "text": [
      "lr: -940.907836 (40.218469)\n",
      "knn: -286.319414 (33.575917)\n",
      "rf: -302.895812 (21.768300)\n",
      "ensemble: -242.176284 (17.323367)\n"
     ]
    }
   ],
   "source": [
    "results = []\n",
    "names = []\n",
    "for name, model in models:\n",
    "    kfold = model_selection.KFold(n_splits=6, random_state=None)\n",
    "    cv_results = model_selection.cross_val_score(model, X_train, y_train, cv=kfold, scoring='neg_mean_absolute_error')\n",
    "    results.append(cv_results)\n",
    "    names.append(name)\n",
    "    msg = \"%s: %f (%f)\" % (name, cv_results.mean(), cv_results.std())\n",
    "    print(msg)"
   ]
  },
  {
   "cell_type": "code",
   "execution_count": null,
   "id": "69041a10",
   "metadata": {},
   "outputs": [],
   "source": []
  },
  {
   "cell_type": "code",
   "execution_count": 48,
   "id": "640fc73f",
   "metadata": {},
   "outputs": [
    {
     "data": {
      "image/png": "[encoded data removed]",
      "text/plain": [
       "<Figure size 432x288 with 1 Axes>"
      ]
     },
     "metadata": {
      "needs_background": "light"
     },
     "output_type": "display_data"
    }
   ],
   "source": [
    "fig = plt.figure()\n",
    "fig.suptitle('Algorithm Comparison')\n",
    "ax = fig.add_subplot(111)\n",
    "plt.boxplot(results)\n",
    "ax.set_xticklabels(names)\n",
    "plt.show()"
   ]
  },
  {
   "cell_type": "code",
   "execution_count": 2,
   "id": "977f9376",
   "metadata": {},
   "outputs": [],
   "source": [
    "r_LN = ['LN' ,0.42   ,  0.5692  ,  956.60]\n",
    "r_DTR = ['DTR', 0.73  ,  0.8760  ,  413.81]\n",
    "r_RFR = ['RFR',1.17  ,  0.9385  ,  287.58]\n",
    "r_SVM = ['SVM',0.54  ,  0.0082  , 1278.73]\n",
    "r_KNN = ['KNN',0.072 ,  0.9429  ,  254.28]\n",
    "r_ESM = ['ESM',3.78  ,  0.9617  ,  225.81]"
   ]
  },
  {
   "cell_type": "code",
   "execution_count": 3,
   "id": "7aea1b54",
   "metadata": {},
   "outputs": [],
   "source": [
    "lista_rrss = [r_LN,r_DTR,r_RFR,r_SVM,r_KNN,r_ESM]"
   ]
  },
  {
   "cell_type": "code",
   "execution_count": 6,
   "id": "a6b9ecc7",
   "metadata": {},
   "outputs": [],
   "source": [
    "df_rrss = pd.DataFrame(lista_rrss,columns= ['method','time', 'R2','MAE'])\n",
    "df_rrss\n",
    "df_rrss.to_csv(\"df_rrss.csv\")"
   ]
  },
  {
   "cell_type": "code",
   "execution_count": 57,
   "id": "3919d305",
   "metadata": {},
   "outputs": [
    {
     "data": {
      "text/plain": [
       "Text(0, 0.5, 'Time (s)')"
      ]
     },
     "execution_count": 57,
     "metadata": {},
     "output_type": "execute_result"
    },
    {
     "data": {
      "image/png": "[encoded data removed]",
      "text/plain": [
       "<Figure size 432x288 with 1 Axes>"
      ]
     },
     "metadata": {
      "needs_background": "light"
     },
     "output_type": "display_data"
    }
   ],
   "source": [
    "plt.plot(df_rrss.method, df_rrss.time, 'b-', marker='o')\n",
    "plt.xlabel('Algorithms')\n",
    "plt.ylabel(\"Time (s)\")"
   ]
  },
  {
   "cell_type": "code",
   "execution_count": 58,
   "id": "86eef1b6",
   "metadata": {},
   "outputs": [
    {
     "data": {
      "text/plain": [
       "Text(0, 0.5, 'MAE')"
      ]
     },
     "execution_count": 58,
     "metadata": {},
     "output_type": "execute_result"
    },
    {
     "data": {
      "image/png": "[encoded data removed]",
      "text/plain": [
       "<Figure size 432x288 with 1 Axes>"
      ]
     },
     "metadata": {
      "needs_background": "light"
     },
     "output_type": "display_data"
    }
   ],
   "source": [
    "plt.plot(df_rrss.method, df_rrss.MAE, 'b-', marker='o')\n",
    "plt.xlabel('Algorithms')\n",
    "plt.ylabel(\"MAE\")"
   ]
  },
  {
   "cell_type": "code",
   "execution_count": null,
   "id": "5fd87afb",
   "metadata": {},
   "outputs": [],
   "source": []
  },
  {
   "cell_type": "code",
   "execution_count": null,
   "id": "bf9b5a51",
   "metadata": {},
   "outputs": [],
   "source": []
  }
 ],
 "metadata": {
  "hide_input": false,
  "kernelspec": {
   "display_name": "Python 3 (ipykernel)",
   "language": "python",
   "name": "python3"
  },
  "language_info": {
   "codemirror_mode": {
    "name": "ipython",
    "version": 3
   },
   "file_extension": ".py",
   "mimetype": "text/x-python",
   "name": "python",
   "nbconvert_exporter": "python",
   "pygments_lexer": "ipython3",
   "version": "3.9.12"
  }
 },
 "nbformat": 4,
 "nbformat_minor": 5
}
