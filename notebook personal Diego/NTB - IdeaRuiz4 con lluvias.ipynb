{
 "cells": [
  {
   "cell_type": "code",
   "execution_count": 1,
   "id": "f4864955",
   "metadata": {},
   "outputs": [],
   "source": [
    "import pandas as pd\n",
    "import numpy as np\n",
    " \n",
    "import plotly.express as px\n",
    "import matplotlib.pyplot as plt\n",
    "import seaborn as sns"
   ]
  },
  {
   "cell_type": "code",
   "execution_count": 5,
   "id": "1d69e0c7",
   "metadata": {},
   "outputs": [],
   "source": [
    "df = pd.read_excel('JUNINAERO1988-2014-d.xlsx')"
   ]
  },
  {
   "cell_type": "code",
   "execution_count": 6,
   "id": "db3eb6f1",
   "metadata": {},
   "outputs": [
    {
     "data": {
      "text/html": [
       "<div>\n",
       "<style scoped>\n",
       "    .dataframe tbody tr th:only-of-type {\n",
       "        vertical-align: middle;\n",
       "    }\n",
       "\n",
       "    .dataframe tbody tr th {\n",
       "        vertical-align: top;\n",
       "    }\n",
       "\n",
       "    .dataframe thead th {\n",
       "        text-align: right;\n",
       "    }\n",
       "</style>\n",
       "<table border=\"1\" class=\"dataframe\">\n",
       "  <thead>\n",
       "    <tr style=\"text-align: right;\">\n",
       "      <th></th>\n",
       "      <th>Fecha</th>\n",
       "      <th>T.Máxima (°C)</th>\n",
       "      <th>T. Mínima (°C)</th>\n",
       "      <th>T. Media (°C)</th>\n",
       "      <th>T. Rocío (°C)</th>\n",
       "      <th>Presión (hPa)</th>\n",
       "      <th>Precipitación (mm)</th>\n",
       "      <th>Hum. Relat.(%)</th>\n",
       "      <th>Heliofanía (horas)</th>\n",
       "      <th>Nubosidad(octavos)</th>\n",
       "      <th>Viento Maximo -Dirección(decagrados)</th>\n",
       "      <th>Viento máximo -Intensidad (m/s)</th>\n",
       "      <th>Viento medio -Intensidad (m/s)</th>\n",
       "    </tr>\n",
       "  </thead>\n",
       "  <tbody>\n",
       "    <tr>\n",
       "      <th>0</th>\n",
       "      <td>1988-01-01</td>\n",
       "      <td>31.8</td>\n",
       "      <td>17.2</td>\n",
       "      <td>25.5</td>\n",
       "      <td>18.7</td>\n",
       "      <td>998.4</td>\n",
       "      <td>0.0</td>\n",
       "      <td>69</td>\n",
       "      <td>\\N</td>\n",
       "      <td>3</td>\n",
       "      <td>7</td>\n",
       "      <td>6.2</td>\n",
       "      <td>0.4</td>\n",
       "    </tr>\n",
       "    <tr>\n",
       "      <th>1</th>\n",
       "      <td>1988-01-02</td>\n",
       "      <td>31.9</td>\n",
       "      <td>20.2</td>\n",
       "      <td>24.9</td>\n",
       "      <td>19.9</td>\n",
       "      <td>998.4</td>\n",
       "      <td>0.0</td>\n",
       "      <td>76</td>\n",
       "      <td>8.6</td>\n",
       "      <td>7</td>\n",
       "      <td>5</td>\n",
       "      <td>8.7</td>\n",
       "      <td>3.3</td>\n",
       "    </tr>\n",
       "    <tr>\n",
       "      <th>2</th>\n",
       "      <td>1988-01-03</td>\n",
       "      <td>34.1</td>\n",
       "      <td>21</td>\n",
       "      <td>26.4</td>\n",
       "      <td>21.0</td>\n",
       "      <td>996.1</td>\n",
       "      <td>0.0</td>\n",
       "      <td>75</td>\n",
       "      <td>7.7</td>\n",
       "      <td>6</td>\n",
       "      <td>5</td>\n",
       "      <td>6.7</td>\n",
       "      <td>2.1</td>\n",
       "    </tr>\n",
       "    <tr>\n",
       "      <th>3</th>\n",
       "      <td>1988-01-04</td>\n",
       "      <td>34.7</td>\n",
       "      <td>21.8</td>\n",
       "      <td>27.2</td>\n",
       "      <td>20.2</td>\n",
       "      <td>995.6</td>\n",
       "      <td>4.5</td>\n",
       "      <td>68</td>\n",
       "      <td>7.9</td>\n",
       "      <td>6</td>\n",
       "      <td>36</td>\n",
       "      <td>13.4</td>\n",
       "      <td>1.9</td>\n",
       "    </tr>\n",
       "    <tr>\n",
       "      <th>4</th>\n",
       "      <td>1988-01-05</td>\n",
       "      <td>28.8</td>\n",
       "      <td>19.7</td>\n",
       "      <td>23.0</td>\n",
       "      <td>12.4</td>\n",
       "      <td>998.9</td>\n",
       "      <td>0.0</td>\n",
       "      <td>57</td>\n",
       "      <td>11.7</td>\n",
       "      <td>2</td>\n",
       "      <td>23</td>\n",
       "      <td>12.9</td>\n",
       "      <td>4.8</td>\n",
       "    </tr>\n",
       "    <tr>\n",
       "      <th>...</th>\n",
       "      <td>...</td>\n",
       "      <td>...</td>\n",
       "      <td>...</td>\n",
       "      <td>...</td>\n",
       "      <td>...</td>\n",
       "      <td>...</td>\n",
       "      <td>...</td>\n",
       "      <td>...</td>\n",
       "      <td>...</td>\n",
       "      <td>...</td>\n",
       "      <td>...</td>\n",
       "      <td>...</td>\n",
       "      <td>...</td>\n",
       "    </tr>\n",
       "    <tr>\n",
       "      <th>9857</th>\n",
       "      <td>2014-12-27</td>\n",
       "      <td>29.4</td>\n",
       "      <td>15</td>\n",
       "      <td>22.6</td>\n",
       "      <td>18.5</td>\n",
       "      <td>1000.6</td>\n",
       "      <td>0.0</td>\n",
       "      <td>80</td>\n",
       "      <td>10.4</td>\n",
       "      <td>5</td>\n",
       "      <td>20</td>\n",
       "      <td>9.8</td>\n",
       "      <td>3.1</td>\n",
       "    </tr>\n",
       "    <tr>\n",
       "      <th>9858</th>\n",
       "      <td>2014-12-28</td>\n",
       "      <td>32</td>\n",
       "      <td>18</td>\n",
       "      <td>25.7</td>\n",
       "      <td>19.8</td>\n",
       "      <td>999.1</td>\n",
       "      <td>0.0</td>\n",
       "      <td>73</td>\n",
       "      <td>12.7</td>\n",
       "      <td>1</td>\n",
       "      <td>36</td>\n",
       "      <td>9.8</td>\n",
       "      <td>1.8</td>\n",
       "    </tr>\n",
       "    <tr>\n",
       "      <th>9859</th>\n",
       "      <td>2014-12-29</td>\n",
       "      <td>33.3</td>\n",
       "      <td>19</td>\n",
       "      <td>26.7</td>\n",
       "      <td>20.3</td>\n",
       "      <td>997.6</td>\n",
       "      <td>4.0</td>\n",
       "      <td>71</td>\n",
       "      <td>10.5</td>\n",
       "      <td>4</td>\n",
       "      <td>25</td>\n",
       "      <td>19.5</td>\n",
       "      <td>4.4</td>\n",
       "    </tr>\n",
       "    <tr>\n",
       "      <th>9860</th>\n",
       "      <td>2014-12-30</td>\n",
       "      <td>31.2</td>\n",
       "      <td>18</td>\n",
       "      <td>24.7</td>\n",
       "      <td>18.7</td>\n",
       "      <td>996</td>\n",
       "      <td>28.0</td>\n",
       "      <td>72</td>\n",
       "      <td>9.7</td>\n",
       "      <td>7</td>\n",
       "      <td>2</td>\n",
       "      <td>10.3</td>\n",
       "      <td>1.7</td>\n",
       "    </tr>\n",
       "    <tr>\n",
       "      <th>9861</th>\n",
       "      <td>2014-12-31</td>\n",
       "      <td>26</td>\n",
       "      <td>15.2</td>\n",
       "      <td>21.2</td>\n",
       "      <td>16.8</td>\n",
       "      <td>993.8</td>\n",
       "      <td>32.0</td>\n",
       "      <td>78</td>\n",
       "      <td>6.8</td>\n",
       "      <td>6</td>\n",
       "      <td>23</td>\n",
       "      <td>14.4</td>\n",
       "      <td>2.8</td>\n",
       "    </tr>\n",
       "  </tbody>\n",
       "</table>\n",
       "<p>9862 rows × 13 columns</p>\n",
       "</div>"
      ],
      "text/plain": [
       "          Fecha T.Máxima (°C) T. Mínima (°C)   T. Media (°C)  T. Rocío (°C)  \\\n",
       "0    1988-01-01          31.8            17.2           25.5           18.7   \n",
       "1    1988-01-02          31.9            20.2           24.9           19.9   \n",
       "2    1988-01-03          34.1              21           26.4           21.0   \n",
       "3    1988-01-04          34.7            21.8           27.2           20.2   \n",
       "4    1988-01-05          28.8            19.7           23.0           12.4   \n",
       "...         ...           ...             ...            ...            ...   \n",
       "9857 2014-12-27          29.4              15           22.6           18.5   \n",
       "9858 2014-12-28            32              18           25.7           19.8   \n",
       "9859 2014-12-29          33.3              19           26.7           20.3   \n",
       "9860 2014-12-30          31.2              18           24.7           18.7   \n",
       "9861 2014-12-31            26            15.2           21.2           16.8   \n",
       "\n",
       "     Presión (hPa)  Precipitación (mm)  Hum. Relat.(%) Heliofanía (horas)  \\\n",
       "0            998.4                 0.0              69                 \\N   \n",
       "1            998.4                 0.0              76                8.6   \n",
       "2            996.1                 0.0              75                7.7   \n",
       "3            995.6                 4.5              68                7.9   \n",
       "4            998.9                 0.0              57               11.7   \n",
       "...            ...                 ...             ...                ...   \n",
       "9857        1000.6                 0.0              80               10.4   \n",
       "9858         999.1                 0.0              73               12.7   \n",
       "9859         997.6                 4.0              71               10.5   \n",
       "9860           996                28.0              72                9.7   \n",
       "9861         993.8                32.0              78                6.8   \n",
       "\n",
       "      Nubosidad(octavos) Viento Maximo -Dirección(decagrados)  \\\n",
       "0                      3                                    7   \n",
       "1                      7                                    5   \n",
       "2                      6                                    5   \n",
       "3                      6                                   36   \n",
       "4                      2                                   23   \n",
       "...                  ...                                  ...   \n",
       "9857                   5                                   20   \n",
       "9858                   1                                   36   \n",
       "9859                   4                                   25   \n",
       "9860                   7                                    2   \n",
       "9861                   6                                   23   \n",
       "\n",
       "     Viento máximo -Intensidad (m/s)  Viento medio -Intensidad (m/s)  \n",
       "0                                6.2                             0.4  \n",
       "1                                8.7                             3.3  \n",
       "2                                6.7                             2.1  \n",
       "3                               13.4                             1.9  \n",
       "4                               12.9                             4.8  \n",
       "...                              ...                             ...  \n",
       "9857                             9.8                             3.1  \n",
       "9858                             9.8                             1.8  \n",
       "9859                            19.5                             4.4  \n",
       "9860                            10.3                             1.7  \n",
       "9861                            14.4                             2.8  \n",
       "\n",
       "[9862 rows x 13 columns]"
      ]
     },
     "execution_count": 6,
     "metadata": {},
     "output_type": "execute_result"
    }
   ],
   "source": [
    "df"
   ]
  },
  {
   "cell_type": "code",
   "execution_count": 7,
   "id": "3b3a1501",
   "metadata": {},
   "outputs": [
    {
     "name": "stdout",
     "output_type": "stream",
     "text": [
      "<class 'pandas.core.frame.DataFrame'>\n",
      "RangeIndex: 9862 entries, 0 to 9861\n",
      "Data columns (total 13 columns):\n",
      " #   Column                                Non-Null Count  Dtype         \n",
      "---  ------                                --------------  -----         \n",
      " 0   Fecha                                 9862 non-null   datetime64[ns]\n",
      " 1   T.Máxima (°C)                         9862 non-null   object        \n",
      " 2   T. Mínima (°C)                        9862 non-null   object        \n",
      " 3   T. Media (°C)                         9862 non-null   float64       \n",
      " 4   T. Rocío (°C)                         9862 non-null   float64       \n",
      " 5   Presión (hPa)                         9862 non-null   object        \n",
      " 6   Precipitación (mm)                    9862 non-null   float64       \n",
      " 7   Hum. Relat.(%)                        9862 non-null   int64         \n",
      " 8   Heliofanía (horas)                    9862 non-null   object        \n",
      " 9   Nubosidad(octavos)                    9862 non-null   int64         \n",
      " 10  Viento Maximo -Dirección(decagrados)  9862 non-null   object        \n",
      " 11  Viento máximo -Intensidad (m/s)       9862 non-null   object        \n",
      " 12  Viento medio -Intensidad (m/s)        9862 non-null   float64       \n",
      "dtypes: datetime64[ns](1), float64(4), int64(2), object(6)\n",
      "memory usage: 1001.7+ KB\n"
     ]
    }
   ],
   "source": [
    "df.info(verbose=True)"
   ]
  },
  {
   "cell_type": "code",
   "execution_count": 9,
   "id": "0a4c3fea",
   "metadata": {},
   "outputs": [
    {
     "data": {
      "text/html": [
       "<div>\n",
       "<style scoped>\n",
       "    .dataframe tbody tr th:only-of-type {\n",
       "        vertical-align: middle;\n",
       "    }\n",
       "\n",
       "    .dataframe tbody tr th {\n",
       "        vertical-align: top;\n",
       "    }\n",
       "\n",
       "    .dataframe thead th {\n",
       "        text-align: right;\n",
       "    }\n",
       "</style>\n",
       "<table border=\"1\" class=\"dataframe\">\n",
       "  <thead>\n",
       "    <tr style=\"text-align: right;\">\n",
       "      <th></th>\n",
       "      <th>T. Media (°C)</th>\n",
       "      <th>T. Rocío (°C)</th>\n",
       "      <th>Precipitación (mm)</th>\n",
       "      <th>Hum. Relat.(%)</th>\n",
       "      <th>Nubosidad(octavos)</th>\n",
       "      <th>Viento medio -Intensidad (m/s)</th>\n",
       "    </tr>\n",
       "  </thead>\n",
       "  <tbody>\n",
       "    <tr>\n",
       "      <th>count</th>\n",
       "      <td>9862.000000</td>\n",
       "      <td>9862.000000</td>\n",
       "      <td>9862.000000</td>\n",
       "      <td>9862.000000</td>\n",
       "      <td>9862.000000</td>\n",
       "      <td>9862.000000</td>\n",
       "    </tr>\n",
       "    <tr>\n",
       "      <th>mean</th>\n",
       "      <td>16.032975</td>\n",
       "      <td>10.306804</td>\n",
       "      <td>2.973575</td>\n",
       "      <td>72.563172</td>\n",
       "      <td>3.673190</td>\n",
       "      <td>3.365950</td>\n",
       "    </tr>\n",
       "    <tr>\n",
       "      <th>std</th>\n",
       "      <td>5.969048</td>\n",
       "      <td>6.136868</td>\n",
       "      <td>9.882475</td>\n",
       "      <td>11.846293</td>\n",
       "      <td>2.565592</td>\n",
       "      <td>2.042773</td>\n",
       "    </tr>\n",
       "    <tr>\n",
       "      <th>min</th>\n",
       "      <td>-0.300000</td>\n",
       "      <td>-10.200000</td>\n",
       "      <td>0.000000</td>\n",
       "      <td>30.000000</td>\n",
       "      <td>0.000000</td>\n",
       "      <td>0.000000</td>\n",
       "    </tr>\n",
       "    <tr>\n",
       "      <th>25%</th>\n",
       "      <td>11.500000</td>\n",
       "      <td>5.900000</td>\n",
       "      <td>0.000000</td>\n",
       "      <td>65.000000</td>\n",
       "      <td>1.000000</td>\n",
       "      <td>1.800000</td>\n",
       "    </tr>\n",
       "    <tr>\n",
       "      <th>50%</th>\n",
       "      <td>16.400000</td>\n",
       "      <td>10.800000</td>\n",
       "      <td>0.000000</td>\n",
       "      <td>73.000000</td>\n",
       "      <td>4.000000</td>\n",
       "      <td>3.100000</td>\n",
       "    </tr>\n",
       "    <tr>\n",
       "      <th>75%</th>\n",
       "      <td>20.800000</td>\n",
       "      <td>15.100000</td>\n",
       "      <td>0.000000</td>\n",
       "      <td>81.000000</td>\n",
       "      <td>6.000000</td>\n",
       "      <td>4.600000</td>\n",
       "    </tr>\n",
       "    <tr>\n",
       "      <th>max</th>\n",
       "      <td>31.100000</td>\n",
       "      <td>24.400000</td>\n",
       "      <td>161.400000</td>\n",
       "      <td>100.000000</td>\n",
       "      <td>8.000000</td>\n",
       "      <td>14.000000</td>\n",
       "    </tr>\n",
       "  </tbody>\n",
       "</table>\n",
       "</div>"
      ],
      "text/plain": [
       "       T. Media (°C)  T. Rocío (°C)  Precipitación (mm)  Hum. Relat.(%)  \\\n",
       "count    9862.000000    9862.000000         9862.000000     9862.000000   \n",
       "mean       16.032975      10.306804            2.973575       72.563172   \n",
       "std         5.969048       6.136868            9.882475       11.846293   \n",
       "min        -0.300000     -10.200000            0.000000       30.000000   \n",
       "25%        11.500000       5.900000            0.000000       65.000000   \n",
       "50%        16.400000      10.800000            0.000000       73.000000   \n",
       "75%        20.800000      15.100000            0.000000       81.000000   \n",
       "max        31.100000      24.400000          161.400000      100.000000   \n",
       "\n",
       "       Nubosidad(octavos)  Viento medio -Intensidad (m/s)  \n",
       "count         9862.000000                     9862.000000  \n",
       "mean             3.673190                        3.365950  \n",
       "std              2.565592                        2.042773  \n",
       "min              0.000000                        0.000000  \n",
       "25%              1.000000                        1.800000  \n",
       "50%              4.000000                        3.100000  \n",
       "75%              6.000000                        4.600000  \n",
       "max              8.000000                       14.000000  "
      ]
     },
     "execution_count": 9,
     "metadata": {},
     "output_type": "execute_result"
    }
   ],
   "source": [
    "df.describe()"
   ]
  },
  {
   "cell_type": "code",
   "execution_count": 10,
   "id": "dc678f8b",
   "metadata": {},
   "outputs": [
    {
     "data": {
      "text/plain": [
       "Fecha                                   0\n",
       "T.Máxima (°C)                           0\n",
       "T. Mínima (°C)                          0\n",
       "T. Media (°C)                           0\n",
       "T. Rocío (°C)                           0\n",
       "Presión (hPa)                           0\n",
       "Precipitación (mm)                      0\n",
       "Hum. Relat.(%)                          0\n",
       "Heliofanía (horas)                      0\n",
       "Nubosidad(octavos)                      0\n",
       "Viento Maximo -Dirección(decagrados)    0\n",
       "Viento máximo -Intensidad (m/s)         0\n",
       "Viento medio -Intensidad (m/s)          0\n",
       "dtype: int64"
      ]
     },
     "execution_count": 10,
     "metadata": {},
     "output_type": "execute_result"
    }
   ],
   "source": [
    "df.isna().sum()"
   ]
  },
  {
   "cell_type": "code",
   "execution_count": 11,
   "id": "7c2497c0",
   "metadata": {},
   "outputs": [
    {
     "data": {
      "text/plain": [
       "Index(['Fecha', 'T.Máxima (°C)', 'T. Mínima (°C) ', 'T. Media (°C)',\n",
       "       'T. Rocío (°C)', 'Presión (hPa)', 'Precipitación (mm)',\n",
       "       'Hum. Relat.(%)', 'Heliofanía (horas)', 'Nubosidad(octavos)',\n",
       "       'Viento Maximo -Dirección(decagrados)',\n",
       "       'Viento máximo -Intensidad (m/s)', 'Viento medio -Intensidad (m/s)'],\n",
       "      dtype='object')"
      ]
     },
     "execution_count": 11,
     "metadata": {},
     "output_type": "execute_result"
    }
   ],
   "source": [
    " df.columns\n"
   ]
  },
  {
   "cell_type": "code",
   "execution_count": 16,
   "id": "afb975ef",
   "metadata": {},
   "outputs": [
    {
     "data": {
      "image/png": "[encoded data removed]",
      "text/plain": [
       "<Figure size 720x720 with 1 Axes>"
      ]
     },
     "metadata": {
      "needs_background": "light"
     },
     "output_type": "display_data"
    }
   ],
   "source": [
    "plt.figure(figsize=(10,10))\n",
    "plt.boxplot(df[\"T. Rocío (°C)\"])\n",
    "plt.title(\"T. Rocío (°C)\", fontsize=30)\n",
    "plt.show()"
   ]
  },
  {
   "cell_type": "code",
   "execution_count": 17,
   "id": "08aeafbf",
   "metadata": {},
   "outputs": [
    {
     "data": {
      "image/png": "[encoded data removed]",
      "text/plain": [
       "<Figure size 720x720 with 1 Axes>"
      ]
     },
     "metadata": {
      "needs_background": "light"
     },
     "output_type": "display_data"
    }
   ],
   "source": [
    "plt.figure(figsize=(10,10))\n",
    "plt.boxplot(df[\"Precipitación (mm)\"])\n",
    "plt.title(\"Precipitación (mm)\", fontsize=30)\n",
    "plt.show()"
   ]
  },
  {
   "cell_type": "code",
   "execution_count": 18,
   "id": "e804d9ac",
   "metadata": {},
   "outputs": [
    {
     "data": {
      "image/png": "[encoded data removed]",
      "text/plain": [
       "<Figure size 720x720 with 1 Axes>"
      ]
     },
     "metadata": {
      "needs_background": "light"
     },
     "output_type": "display_data"
    }
   ],
   "source": [
    "plt.figure(figsize=(10,10))\n",
    "plt.hist(df[\"T. Rocío (°C)\"], bins=30)\n",
    "plt.title(\"T. Rocío (°C)\", fontsize=30)\n",
    "plt.show()"
   ]
  },
  {
   "cell_type": "code",
   "execution_count": 19,
   "id": "0eaad6fc",
   "metadata": {},
   "outputs": [
    {
     "data": {
      "image/png": "[encoded data removed]",
      "text/plain": [
       "<Figure size 720x720 with 1 Axes>"
      ]
     },
     "metadata": {
      "needs_background": "light"
     },
     "output_type": "display_data"
    }
   ],
   "source": [
    "plt.figure(figsize=(10,10))\n",
    "sns.histplot(df[\"T. Rocío (°C)\"], kde=True) # KDE = Kernel Density Estimate\n",
    "plt.title(\"T. Rocío (°C)\", fontsize=30)\n",
    "plt.show()"
   ]
  },
  {
   "cell_type": "code",
   "execution_count": 20,
   "id": "71d7dc07",
   "metadata": {},
   "outputs": [
    {
     "name": "stderr",
     "output_type": "stream",
     "text": [
      "C:\\Users\\Diego\\AppData\\Local\\Temp/ipykernel_1204/1665899112.py:1: FutureWarning: Dropping of nuisance columns in DataFrame reductions (with 'numeric_only=None') is deprecated; in a future version this will raise TypeError.  Select only valid columns before calling the reduction.\n",
      "  df.skew()\n"
     ]
    },
    {
     "data": {
      "text/plain": [
       "T. Media (°C)                    -0.179351\n",
       "T. Rocío (°C)                    -0.305689\n",
       "Precipitación (mm)                5.577606\n",
       "Hum. Relat.(%)                   -0.205962\n",
       "Nubosidad(octavos)                0.148311\n",
       "Viento medio -Intensidad (m/s)    0.685404\n",
       "dtype: float64"
      ]
     },
     "execution_count": 20,
     "metadata": {},
     "output_type": "execute_result"
    }
   ],
   "source": [
    "df.skew()"
   ]
  },
  {
   "cell_type": "code",
   "execution_count": null,
   "id": "0af8c234",
   "metadata": {},
   "outputs": [],
   "source": []
  },
  {
   "cell_type": "code",
   "execution_count": null,
   "id": "f4ea604a",
   "metadata": {},
   "outputs": [],
   "source": []
  },
  {
   "cell_type": "code",
   "execution_count": null,
   "id": "8c9ef7ce",
   "metadata": {},
   "outputs": [],
   "source": []
  },
  {
   "cell_type": "code",
   "execution_count": null,
   "id": "719b30ba",
   "metadata": {},
   "outputs": [],
   "source": []
  }
 ],
 "metadata": {
  "kernelspec": {
   "display_name": "Python 3 (ipykernel)",
   "language": "python",
   "name": "python3"
  },
  "language_info": {
   "codemirror_mode": {
    "name": "ipython",
    "version": 3
   },
   "file_extension": ".py",
   "mimetype": "text/x-python",
   "name": "python",
   "nbconvert_exporter": "python",
   "pygments_lexer": "ipython3",
   "version": "3.9.7"
  }
 },
 "nbformat": 4,
 "nbformat_minor": 5
}
